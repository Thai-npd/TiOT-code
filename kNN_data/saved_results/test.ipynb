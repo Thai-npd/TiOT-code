{
 "cells": [
  {
   "cell_type": "code",
   "execution_count": null,
   "id": "cdf73a2c",
   "metadata": {},
   "outputs": [],
   "source": [
    "import pandas as pd\n",
    "filename = 'Results on CBF (0.01 to 0.1)'\n",
    "# Read the semicolon-delimited CSV\n",
    "df = pd.read_csv(filename + \".csv\", sep=\";\")\n",
    "\n",
    "# Save with commas instead\n",
    "df.to_csv(filename + \".csv\", sep=\",\", index=False)\n"
   ]
  },
  {
   "cell_type": "code",
   "execution_count": null,
   "id": "6102e7d4",
   "metadata": {},
   "outputs": [],
   "source": [
    "import pandas as pd\n",
    "\n",
    "filename = 'Results on CBF (0.01 to 0.1)' \n",
    "def insert_second_column(file_main, file_extra, output_file):\n",
    "    # Read the two CSV files (auto-detect delimiter if needed)\n",
    "    df_main = pd.read_csv(file_main)\n",
    "    df_extra = pd.read_csv(file_extra)\n",
    "    \n",
    "    # Extract the second column from the extra file\n",
    "    col_to_insert = df_extra.iloc[:, 1]  # index 1 means second column\n",
    "    col_name = df_extra.columns[1]\n",
    "    \n",
    "    # Insert right after the second column of the main file\n",
    "    insert_position = 2  # index after first two columns\n",
    "    df_main.insert(insert_position, col_name, col_to_insert)\n",
    "    \n",
    "    # Save the result\n",
    "    df_main.to_csv(output_file, index=False)\n",
    "\n",
    "# Example usage\n",
    "insert_second_column(filename + \".csv\",filename +  \"__test.csv\", \"merged.csv\")\n"
   ]
  }
 ],
 "metadata": {
  "kernelspec": {
   "display_name": "Python 3",
   "language": "python",
   "name": "python3"
  },
  "language_info": {
   "codemirror_mode": {
    "name": "ipython",
    "version": 3
   },
   "file_extension": ".py",
   "mimetype": "text/x-python",
   "name": "python",
   "nbconvert_exporter": "python",
   "pygments_lexer": "ipython3",
   "version": "3.8.0"
  }
 },
 "nbformat": 4,
 "nbformat_minor": 5
}
