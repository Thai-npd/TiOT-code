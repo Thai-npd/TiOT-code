{
 "cells": [
  {
   "cell_type": "code",
   "execution_count": null,
   "id": "8ae5b224",
   "metadata": {},
   "outputs": [],
   "source": [
    "def process_data(dataset_name ):\n",
    "    train_file = os.path.join(\"time_series_kNN\", dataset_name, dataset_name + \"_TRAIN.txt\" )\n",
    "    test_file = os.path.join(\"time_series_kNN\", dataset_name, dataset_name + \"_TEST.txt\")\n",
    "\n",
    "    with open(train_file, \"r\") as file:\n",
    "        data = [line.strip().split() for line in file]\n",
    "\n",
    "    # Convert to numerical values if needed\n",
    "    data = [[float(value) for value in row] for row in data]\n",
    "\n",
    "    Y_train = [row[0] for row in data]\n",
    "    X_train = [row[1:] for row in data]\n",
    "\n",
    "    with open(test_file, \"r\") as file:\n",
    "        data_test = [line.strip().split() for line in file]\n",
    "\n",
    "    # Convert to numerical values if needed\n",
    "    data_test = [[float(value) for value in row] for row in data_test]\n",
    "\n",
    "    Y_test = [row[0] for row in data_test]\n",
    "    X_test = [row[1:] for row in data_test]\n",
    "    return [X_train, Y_train, X_test, Y_test]"
   ]
  }
 ],
 "metadata": {
  "language_info": {
   "name": "python"
  }
 },
 "nbformat": 4,
 "nbformat_minor": 5
}
