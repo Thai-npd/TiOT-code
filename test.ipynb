{
 "cells": [
  {
   "cell_type": "code",
   "execution_count": 6,
   "id": "c99603d6",
   "metadata": {},
   "outputs": [
    {
     "name": "stdout",
     "output_type": "stream",
     "text": [
      "Pair (0, 2) with labels (0, 2)\n",
      "Pair (1, 3) with labels (1, 0)\n",
      "Pair (1, 6) with labels (1, 3)\n",
      "Pair (2, 4) with labels (2, 1)\n",
      "Pair (3, 6) with labels (0, 3)\n"
     ]
    }
   ],
   "source": [
    "import numpy as np\n",
    "np.random.seed(0)\n",
    "# Example labels\n",
    "Y = np.array([0, 1, 2, 0, 1, 2, 3])\n",
    "\n",
    "N = 5  # Number of pairs to sample\n",
    "\n",
    "# Step 1: Generate all possible pairs with different labels, avoiding symmetric duplicates\n",
    "indices = np.arange(len(Y))\n",
    "all_pairs = [(i, j) for i in indices for j in indices if i < j and Y[i] != Y[j]]\n",
    "\n",
    "# Step 2: Randomly choose N pairs without replacement\n",
    "if N > len(all_pairs):\n",
    "    raise ValueError(\"N is larger than the total number of distinct-label pairs.\")\n",
    "\n",
    "chosen_pairs = np.random.choice(len(all_pairs), size=N, replace=False)\n",
    "selected_pairs = [all_pairs[idx] for idx in chosen_pairs]\n",
    "\n",
    "# Show results\n",
    "for i, j in selected_pairs:\n",
    "    print(f\"Pair ({i}, {j}) with labels ({Y[i]}, {Y[j]})\")\n"
   ]
  },
  {
   "cell_type": "code",
   "execution_count": 7,
   "id": "af17805a",
   "metadata": {},
   "outputs": [
    {
     "name": "stdout",
     "output_type": "stream",
     "text": [
      "0\n",
      "1\n",
      "1\n",
      "2\n",
      "3\n"
     ]
    }
   ],
   "source": [
    "for ix1, ix2 in selected_pairs:\n",
    "    print(ix1)"
   ]
  }
 ],
 "metadata": {
  "kernelspec": {
   "display_name": "base",
   "language": "python",
   "name": "python3"
  },
  "language_info": {
   "codemirror_mode": {
    "name": "ipython",
    "version": 3
   },
   "file_extension": ".py",
   "mimetype": "text/x-python",
   "name": "python",
   "nbconvert_exporter": "python",
   "pygments_lexer": "ipython3",
   "version": "3.11.5"
  }
 },
 "nbformat": 4,
 "nbformat_minor": 5
}
