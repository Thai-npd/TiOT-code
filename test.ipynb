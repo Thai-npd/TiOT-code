{
 "cells": [
  {
   "cell_type": "code",
   "execution_count": 22,
   "id": "e5e395b2",
   "metadata": {},
   "outputs": [],
   "source": [
    "import pandas as pd\n",
    "import numpy as np\n",
    "import os\n",
    "\n",
    "DATANAME = 'MiddlePhalanxTW'\n",
    "eps_list = [0.005*i for i in range(1,21)]\n",
    "eps_name = f\" ({eps_list[0]} to {eps_list[-1]})\" \n",
    "dataset_name = DATANAME\n",
    "result_file = os.path.join(\"kfold_kNN_data\", \"saved_results\",\"Results on \" + dataset_name + eps_name + '_new_' + '.csv')\n",
    "df = pd.read_csv(result_file)"
   ]
  },
  {
   "cell_type": "code",
   "execution_count": 23,
   "id": "6a289af3",
   "metadata": {},
   "outputs": [],
   "source": [
    "min_records = {'eTiOT': [], 'eTAOT' : []}\n",
    "eps_records = {'eTiOT': [], 'eTAOT' : []}\n",
    "\n",
    "def extract_best_eps(indices, alg):\n",
    "    min_err = np.inf\n",
    "    min_eps = 0\n",
    "    for i in indices:\n",
    "        if float(df[alg][i]) <= min_err and df['eps'][i] != 'Final error':\n",
    "            min_err = float(df[alg][i])\n",
    "            min_eps = float(df['eps'][i])\n",
    "    return min_eps\n",
    "\n",
    "eps_records['eTiOT'].append(extract_best_eps(range(len(df)), 'eTiOT'))\n",
    "eps_records['eTAOT'].append(extract_best_eps(range(len(df)), 'eTAOT'))\n",
    "eps_records['eTiOT'].append(extract_best_eps(range(1,len(df),2), 'eTiOT'))\n",
    "eps_records['eTAOT'].append(extract_best_eps(range(1,len(df),2), 'eTAOT'))\n"
   ]
  },
  {
   "cell_type": "code",
   "execution_count": 24,
   "id": "47392af6",
   "metadata": {},
   "outputs": [],
   "source": [
    "eps_list = [0.01*i for i in range(1,11)]\n",
    "eps_name = f\" ({eps_list[0]} to {eps_list[-1]})\"   \n",
    "result_file_test = os.path.join(\"kNN_data\", \"saved_results\",\"Results on \" + dataset_name + eps_name + '_new_' +'.csv')\n",
    "col_map = {\"eTiOT\": \"eTiOT\", \"eTAOT\": r\" eTAOT($\\omega = \\omega_{\\text{grid}})$\"}\n",
    "df2 = pd.read_csv(result_file_test)"
   ]
  },
  {
   "cell_type": "code",
   "execution_count": 25,
   "id": "f3c8dc71",
   "metadata": {},
   "outputs": [
    {
     "data": {
      "text/plain": [
       "Index(['eps', 'eTiOT', 'eTAOT$(\\omega = \\omega_{\\text{grid}} \\;/\\; 5)$',\n",
       "       'eTAOT$(\\omega = \\omega_{\\text{grid}})$',\n",
       "       'eTAOT$(\\omega = \\omega_{\\text{grid}} \\times 5)$'],\n",
       "      dtype='object')"
      ]
     },
     "execution_count": 25,
     "metadata": {},
     "output_type": "execute_result"
    }
   ],
   "source": [
    "df2.columns"
   ]
  },
  {
   "cell_type": "code",
   "execution_count": 26,
   "id": "5cd12f4e",
   "metadata": {},
   "outputs": [],
   "source": [
    "for i in range(len(df2)):\n",
    "    if float(df2['eps'][i]) == eps_records['eTiOT'][1]:\n",
    "        eps_records['eTiOT'].append(df2['eTiOT'][i])\n",
    "    if float(df2['eps'][i]) == eps_records['eTAOT'][1]:\n",
    "        eps_records['eTAOT'].append(df2[df2.columns[3]][i])"
   ]
  },
  {
   "cell_type": "code",
   "execution_count": 27,
   "id": "34a2a930",
   "metadata": {},
   "outputs": [
    {
     "data": {
      "text/plain": [
       "{'eTiOT': [0.085, 0.09, np.float64(0.4675324675324676)],\n",
       " 'eTAOT': [0.05, 0.05, np.float64(0.4545454545454546)]}"
      ]
     },
     "execution_count": 27,
     "metadata": {},
     "output_type": "execute_result"
    }
   ],
   "source": [
    "eps_records"
   ]
  },
  {
   "cell_type": "code",
   "execution_count": 28,
   "id": "1e6f3d14",
   "metadata": {},
   "outputs": [
    {
     "name": "stdout",
     "output_type": "stream",
     "text": [
      "Updated result_file with final_error + eps values.\n"
     ]
    }
   ],
   "source": [
    "new_rows = []\n",
    "\n",
    "# eps for final_error (grid=0.005)\n",
    "new_rows.append({\n",
    "    \"eps\": \"eps_final_error\",\n",
    "    \"eTiOT\": eps_records[\"eTiOT\"][0],\n",
    "    \"eTAOT\": eps_records[\"eTAOT\"][0]\n",
    "})\n",
    "\n",
    "# final_error for grid=0.01\n",
    "new_rows.append({\n",
    "    \"eps\": \"eps_final_error_grid001\",\n",
    "    \"eTiOT\": eps_records[\"eTiOT\"][1],\n",
    "    \"eTAOT\": eps_records[\"eTAOT\"][1],\n",
    "})\n",
    "\n",
    "# eps for grid=0.01\n",
    "new_rows.append({\n",
    "    \"eps\": \"final_error_grid001\",\n",
    "    \"eTiOT\": eps_records[\"eTiOT\"][2],\n",
    "    \"eTAOT\": eps_records[\"eTAOT\"][2],\n",
    "})\n",
    "\n",
    "# append new rows after the last row\n",
    "df = pd.concat([df, pd.DataFrame(new_rows)], ignore_index=True)\n",
    "\n",
    "# save back\n",
    "df.to_csv(result_file, index=False)\n",
    "print(\"Updated result_file with final_error + eps values.\")"
   ]
  },
  {
   "cell_type": "code",
   "execution_count": 2,
   "id": "69fff600",
   "metadata": {},
   "outputs": [
    {
     "name": "stdout",
     "output_type": "stream",
     "text": [
      "176\n"
     ]
    }
   ],
   "source": [
    "print(len(X1[0]))"
   ]
  },
  {
   "cell_type": "markdown",
   "id": "4c7d3c1f",
   "metadata": {},
   "source": [
    "## Concatenate TiOT into overall results"
   ]
  },
  {
   "cell_type": "code",
   "execution_count": 5,
   "id": "fe82e67a",
   "metadata": {},
   "outputs": [],
   "source": [
    "import pandas as pd\n",
    "import numpy as np\n",
    "import os\n",
    "eps_list = [0.01*i for i in range(1,11)]\n",
    "eps_name = f\" ({eps_list[0]} to {eps_list[-1]})\" \n",
    "dataset_name = \"ProximalPhalanxTW\"\n",
    "result_file = os.path.join(\"kNN_data\", \"saved_results\",\"Results on \" + dataset_name + eps_name + '_new_' +'.csv')\n",
    "TiOT_file = os.path.join(\"kNN_data\", \"saved_results\",\"Results on \" + dataset_name + eps_name + '_freq5_TiOTonly' + '.csv')\n",
    "final_file = os.path.join(\"kNN_data\", \"saved_results\",\"Results on \" + dataset_name + eps_name + '_freq5_' + '.csv')\n",
    "# Read both CSV files\n",
    "allresult = pd.read_csv(result_file)\n",
    "TiOTresult = pd.read_csv(TiOT_file)\n",
    "\n",
    "# Replace TiOT column in file1 with TiOT column from file2\n",
    "allresult[\"eTiOT\"] = TiOTresult[\"eTiOT\"]\n",
    "\n",
    "# Save the modified file1\n",
    "allresult.to_csv(final_file, index=False)"
   ]
  },
  {
   "cell_type": "markdown",
   "id": "0ce97ae3",
   "metadata": {},
   "source": [
    "## End of concatenation"
   ]
  },
  {
   "cell_type": "code",
   "execution_count": 2,
   "id": "74bef9eb",
   "metadata": {},
   "outputs": [
    {
     "name": "stdout",
     "output_type": "stream",
     "text": [
      "Time series: [ 2.43488930e+00 -1.81633595e+00  5.40526929e-02 -1.92773641e+00\n",
      "  3.92955825e+00  4.67994173e+00  3.39488084e+00 -1.05377104e+00\n",
      "  9.06388091e-02 -1.08844021e+00  4.41222227e+00 -5.34804738e-01\n",
      " -1.13008206e+00 -8.19806069e-01 -2.92265745e+00  1.49738639e+00\n",
      "  7.72786968e-01  1.45320402e+00 -2.93416414e+00 -5.19453147e+00\n",
      " -1.45148794e+00  7.06701293e+00  3.51708872e+00  1.73910294e+00\n",
      "  3.57107594e+00 -3.02453845e+00 -1.07089299e+00 -4.57418252e-01\n",
      "  2.58562140e+00  4.15344028e+00  3.35575061e+00  3.93445849e+00\n",
      "  1.50882183e+00  4.34476185e+00  5.65193177e+00 -2.11111725e+00\n",
      "  1.15245219e+00  1.45397650e+00 -9.07043364e-01  5.24944837e+00\n",
      " -1.29539884e+00  1.63836058e+00  2.97464357e+00  3.20124699e+00\n",
      "  1.80791989e+00  2.09275218e+00  1.05693123e+00  1.93757394e+00\n",
      "  8.81162263e-02 -3.03196062e+00  3.74347589e-01 -1.44418410e+00\n",
      "  4.79173116e+00 -4.31286664e+00  1.33326199e+00 -2.75670660e-01\n",
      " -1.88860936e+00  3.18236158e+00 -8.88309293e-01 -1.00295051e+00\n",
      " -8.57323698e-01 -2.96766797e-01 -2.17046481e+00  4.00333475e+00\n",
      "  3.92433891e+00  3.42796861e+00  3.73458489e+00  3.26952530e+00\n",
      "  2.53511364e+00  2.58384509e+00  2.19052736e+00  1.39233088e+00\n",
      "  8.93981278e-01 -2.53523375e+00 -1.98534250e+00 -7.20491151e-01\n",
      " -9.43779359e-02  2.83099721e+00 -1.79477298e+00  4.34899766e+00\n",
      "  4.06155410e+00  2.45412577e+00 -1.62065794e+00  3.72009305e+00\n",
      "  3.07563788e+00 -2.85009571e+00  2.61801880e+00 -2.06094600e-01\n",
      "  1.13099898e+00  3.07898090e+00  1.38487903e-01  1.45459765e+00\n",
      "  4.97076637e+00  2.28808553e+00  3.38937936e+00 -4.33708038e+00\n",
      " -2.39898927e+00 -1.06541310e+00  8.22697202e-01  4.93278539e-01\n",
      "  2.47670878e+00 -2.43032319e+00  1.24226228e+00  3.16051789e+00\n",
      "  5.62007002e+00 -2.50106991e+00  3.18481139e+00  5.99585502e+00\n",
      " -2.13614542e-01 -2.59181527e+00  1.98219556e+00 -1.41607238e+00\n",
      "  6.45108279e-01 -2.37597099e-01 -4.33888643e-01  1.85635704e-01\n",
      " -1.50412078e+00  1.35914612e+00  1.61749869e+00  1.60135801e+00\n",
      "  3.70704800e+00  4.10359436e+00  3.54071594e+00 -2.74113699e-01\n",
      "  3.70151058e+00 -2.21030968e+00  3.16020991e+00 -2.81238314e+00\n",
      "  7.88216658e-02  1.29744482e+00 -2.59423552e+00  4.01579728e+00\n",
      " -2.37620596e-01  1.64183328e+00  1.63238242e+00  1.95171940e+00\n",
      "  2.79696570e+00  3.22035000e+00 -1.56925139e+00  1.17185627e-01\n",
      "  1.78580270e+00  2.00359361e+00  5.17582501e+00 -2.22001580e+00\n",
      " -1.57424194e+00  5.61974971e+00  3.33017809e+00 -1.23778298e+00\n",
      " -7.23306204e-01 -1.09123999e+00  2.22782337e+00 -9.04847745e-01\n",
      "  7.48937479e-01  2.84816086e-01  1.99700097e-01 -2.92164446e+00\n",
      "  3.98965214e+00  2.56234221e+00  3.04700783e+00  2.13645788e+00\n",
      " -8.30759962e-01  3.83957614e+00 -3.28692397e+00 -3.57059020e-01\n",
      "  2.04145121e+00  2.24561803e+00  2.42815760e+00  1.96742545e+00\n",
      "  7.66185936e-01  2.96717632e-01  3.31061522e+00  1.18579362e+00\n",
      "  3.05672645e+00  1.26340162e+00 -1.11181443e+00 -3.22707791e+00\n",
      " -6.38368646e-01 -2.00640867e+00 -1.14049251e+00  2.59368997e+00\n",
      " -3.24824270e+00 -3.10910748e+00  3.60144628e+00  1.80499336e+00\n",
      " -4.57644383e+00  4.14278069e+00 -1.90117786e-01  1.46322592e+00\n",
      "  3.85203860e-01  6.80986904e-01  3.36416337e+00  6.99940767e+00\n",
      "  3.84178393e-02 -1.18063686e-02  2.44111056e+00  4.19987151e+00\n",
      "  3.55198650e-01  1.32401641e+00 -1.41720797e+00  1.96109682e+00\n",
      "  1.88297342e+00  4.15343242e+00  5.41849947e+00 -1.32060688e+00\n",
      "  1.98010886e+00 -1.25635869e-01 -9.91175672e-01  8.60708894e-01\n",
      " -1.28638511e+00 -1.88934463e+00 -1.82087197e+00 -4.19860676e+00\n",
      "  1.01667432e+00  1.10335572e+00 -9.22133865e-01  4.72942873e+00\n",
      "  2.30141731e+00  8.96571851e-01 -6.99270287e-01  1.01086142e+00\n",
      "  9.94646763e-01 -2.01901176e+00  3.73818843e+00 -9.53721967e-01\n",
      "  3.89829427e-01  2.71516143e+00  3.99406273e+00  8.88947555e-01\n",
      " -6.29899102e-01 -9.36953330e-01 -2.49104625e+00 -3.02843388e+00\n",
      "  3.96560905e+00 -1.15380625e+00  9.11828760e-01  2.56760246e+00\n",
      "  1.13276026e+00 -4.13735501e+00  6.37248416e-02 -2.03804607e+00\n",
      "  1.64784297e+00 -1.74321420e-01  5.75096785e-01  7.01070336e-01\n",
      "  7.37945787e-01  3.54020523e+00 -5.21120454e-01  2.37163170e-01\n",
      "  2.40402411e+00  3.23685279e+00  3.02226110e+00  5.91253259e-01\n",
      "  6.36461201e-01 -1.56603599e-01 -1.27832395e+00  9.37534917e-01\n",
      "  4.86309047e+00 -2.18915191e+00 -5.85633435e-01  2.91662453e+00\n",
      "  8.27908740e-01  5.95347412e+00  3.66264730e+00  2.07496936e+00\n",
      "  1.14273503e+00  2.76003421e+00  2.20450606e+00  9.24723744e-01\n",
      "  6.40252432e+00  2.14874765e+00  1.14517479e+00  1.09317493e+00\n",
      "  4.26824687e+00  3.77680115e-01  7.29829642e-02  1.32083194e+00\n",
      "  3.87553857e+00  4.06262963e+00  3.87828324e+00  3.34886038e+00\n",
      " -3.36877123e+00  2.88906635e+00  1.74514662e+00  4.51336831e-01\n",
      "  1.98896042e+00  5.83082586e+00  1.49021018e+00  3.19585576e+00\n",
      "  1.47692113e+00  2.76111033e+00 -2.97680458e-01 -2.30177925e+00\n",
      "  2.55361513e-03 -5.17855814e-01 -2.62518357e+00 -6.90369002e-01\n",
      " -7.34481658e-01  5.95341449e+00  7.71284741e-01 -5.93520358e-01\n",
      " -2.26577474e-01  2.81860766e+00  2.37677121e+00 -2.28470438e+00\n",
      "  2.46949530e+00  1.40561374e+00  5.04125235e-01  3.65357237e+00\n",
      "  3.43910135e+00 -4.54888299e-01  2.52021300e+00  4.51977189e+00\n",
      "  4.63334330e+00  9.74781545e-01  2.80913329e+00 -1.91769966e+00\n",
      " -2.28667039e+00  3.35567852e+00  3.41767408e+00  1.37906529e+00\n",
      "  1.08941018e+00 -8.15647987e-01 -2.53482264e+00 -1.10457101e+00\n",
      " -2.75364870e-01  2.37825648e+00 -1.50466997e+00  3.19169246e+00\n",
      " -1.39036050e+00 -1.58223845e+00  3.29640604e+00 -1.23271705e+00\n",
      "  3.17599396e+00 -1.88827965e-01  7.02378930e-01 -1.35523943e+00\n",
      "  5.31015739e+00 -2.40785101e+00 -3.88367354e+00 -3.48972511e+00\n",
      " -5.66210110e-01 -5.63415882e-01 -7.93048106e-01  4.91040669e+00\n",
      " -4.74355674e+00  3.44744942e+00  1.80284912e+00  7.23204775e-01\n",
      " -1.19841624e+00 -1.77522569e+00  1.14056198e+00 -1.11563364e+00\n",
      "  1.59575094e+00  2.22947982e+00  2.13893579e+00  2.33410663e+00\n",
      " -5.56212518e-01  5.87497920e+00  2.57275212e+00  2.97387836e+00\n",
      " -4.61730472e-02  8.42302306e+00  7.04916200e-01 -1.70468337e+00\n",
      "  4.47202875e+00 -1.17062754e+00 -1.36839487e+00  4.36404602e+00\n",
      "  2.79513831e+00  3.23762549e+00  2.76456462e+00  3.34133641e+00\n",
      "  4.58037917e-02 -7.23536650e-01  3.93132368e+00 -2.12946873e+00\n",
      " -2.84108513e+00 -7.01522425e-01 -4.81376601e-01  1.49964298e+00\n",
      "  4.22535975e+00 -2.68628826e+00 -1.24037182e+00 -1.51546145e+00\n",
      "  2.65626725e+00 -1.80076905e-01 -2.16947056e+00  4.03450322e+00\n",
      " -5.13810662e-01 -3.53626297e+00 -7.62199040e-01  2.71753486e+00\n",
      " -9.52842576e-01  2.55465599e+00  2.68953074e+00  3.14283822e+00\n",
      "  4.43386027e+00 -2.32904161e+00 -2.42314468e+00  7.84810171e-01\n",
      " -1.64535399e-01  1.31353784e+00  1.96837005e+00 -4.47897376e+00\n",
      " -3.07003037e-01 -1.89913373e+00 -1.47349349e+00 -1.24260567e+00\n",
      "  2.80853955e+00 -1.09319165e+00  4.61567150e+00  1.53091125e+00\n",
      "  1.19782490e+00  1.29150902e-01 -6.00917985e-03 -8.73194510e-03\n",
      " -4.52663043e-01  2.47594852e+00  5.57923438e+00  1.62711774e+00\n",
      "  2.57411259e+00 -9.59744355e-01  4.56386768e-01 -5.03116291e-01\n",
      "  8.15345050e-01 -1.77346927e+00  2.61854238e-03  2.47743221e-01\n",
      " -1.57311925e+00  9.15364140e-01  4.80906499e+00  5.30751991e+00\n",
      "  3.68609706e+00  1.49671614e+00 -3.51902786e+00 -1.10271567e+00\n",
      " -1.95165085e+00  2.95272403e+00 -1.49470584e+00  2.44248740e+00\n",
      "  6.10469508e+00 -8.73611241e-01  2.85288551e-02 -9.70316075e-01\n",
      "  2.87492804e+00 -6.01913501e-01  3.54111768e+00  1.19041049e+00\n",
      "  1.93574125e+00  3.29312926e+00  3.79360952e+00  6.81933420e-01\n",
      " -7.47077620e-01  4.42070109e+00  7.27616981e-01 -2.84055943e-01\n",
      "  7.59195590e-01  3.61700075e+00  1.24452034e+00  3.25690482e+00\n",
      " -1.16114371e+00 -9.19875409e-02 -5.14206703e+00 -1.92543273e-02\n",
      " -3.78342542e+00 -3.27577973e+00  3.54727616e+00  3.59333370e+00\n",
      "  6.61257696e-01  1.46639547e+00  5.18994644e+00  1.87416452e+00\n",
      "  6.74967071e+00 -6.14183795e-01  1.96295626e-02  5.63036518e+00\n",
      "  2.97382346e+00  9.47472810e-01 -7.80859953e-01  2.67589216e+00\n",
      "  2.99543144e-01  2.28215912e+00  1.41259756e+00  4.39221684e+00\n",
      " -5.57703844e-01 -1.04843255e+00 -7.75378393e-01 -2.66257350e-01\n",
      "  3.42411251e-01  9.52178111e-01 -2.22156429e+00  1.09667596e+00\n",
      "  2.00234468e+00 -2.80172722e+00  3.53305184e+00  1.05178233e-01\n",
      " -2.97778105e+00 -2.56424927e-01  5.26034141e-01 -3.23946637e-02]\n",
      "Component IDs: [1 0 1 1 0 1 1 1 0 0 1 1 1 0 1 0 0 1 1 0 1 0 1 1 0 0 1 0 1 1 0 1 0 1 1 0 0\n",
      " 0 1 1 1 1 1 0 1 0 0 1 1 0 0 1 0 1 0 0 1 1 0 1 0 1 1 0 1 1 1 1 1 0 0 1 0 0\n",
      " 1 1 0 1 1 1 0 1 1 1 0 1 0 1 0 0 1 0 0 1 0 1 1 1 0 1 0 1 0 0 1 1 0 1 1 0 0\n",
      " 1 0 0 1 0 0 1 1 0 1 0 0 0 0 1 0 1 0 1 1 1 1 1 1 0 1 0 1 1 1 0 0 0 0 1 1 1\n",
      " 1 1 0 0 1 0 0 0 0 0 1 1 1 0 1 0 0 1 1 0 1 1 0 1 1 0 1 1 1 0 0 0 1 1 1 1 1\n",
      " 1 0 0 1 0 0 0 0 0 0 1 0 1 0 1 0 0 0 1 0 0 1 0 0 0 1 1 0 1 1 1 1 0 1 0 0 1\n",
      " 1 1 1 1 0 1 1 0 0 0 1 1 1 0 0 0 1 1 0 0 0 1 0 1 0 0 0 0 0 1 0 0 0 1 0 1 0\n",
      " 0 1 1 0 1 0 0 0 1 1 1 0 1 0 1 0 1 1 1 0 1 1 0 0 0 0 1 1 1 1 0 1 1 1 0 1 0\n",
      " 0 1 0 1 1 1 0 0 1 1 1 0 1 0 0 1 0 0 1 0 1 0 0 0 1 1 1 1 0 1 1 1 0 1 1 0 1\n",
      " 0 0 0 1 1 1 0 1 1 0 0 0 0 1 1 0 0 1 0 1 0 1 1 0 1 0 0 1 0 1 1 1 1 0 1 0 0\n",
      " 1 1 0 1 1 1 1 1 0 1 0 1 1 1 1 1 1 0 1 0 0 1 1 1 1 1 0 1 1 0 0 1 1 1 1 1 1\n",
      " 0 1 1 0 0 1 0 0 0 1 0 0 0 1 1 1 0 0 1 1 1 0 1 1 1 0 1 1 1 1 1 1 0 1 1 0 0\n",
      " 0 0 1 0 0 1 0 1 1 0 0 0 0 0 1 0 0 0 0 1 0 1 1 1 0 0 0 1 0 0 0 1 1 1 1 0 0\n",
      " 0 0 1 1 1 1 0 0 1 0 1 1 0 0 1 0 0 0 1]\n"
     ]
    }
   ],
   "source": [
    "import numpy as np\n",
    "\n",
    "\n",
    "def gaussian_mixture_timeseries(length, n_components=3, weights=None, means=None, stds=None, random_state=None):\n",
    "    \"\"\"\n",
    "    Generate a Gaussian mixture time series.\n",
    "    \n",
    "    Parameters:\n",
    "        length (int): Length of the time series.\n",
    "        n_components (int): Number of Gaussian components.\n",
    "        weights (list or None): Mixing weights (must sum to 1). If None, uniform weights are used.\n",
    "        means (list or None): Means of Gaussians. If None, random values are used.\n",
    "        stds (list or None): Standard deviations of Gaussians. If None, random values are used.\n",
    "        random_state (int or None): Random seed for reproducibility.\n",
    "\n",
    "    Returns:\n",
    "        ts (ndarray): Generated time series of shape (length,).\n",
    "        component_ids (ndarray): The component index chosen at each time step.\n",
    "    \"\"\"\n",
    "    rng = np.random.default_rng(random_state)\n",
    "\n",
    "    # Default weights\n",
    "    if weights is None:\n",
    "        weights = np.ones(n_components) / n_components\n",
    "    weights = np.array(weights) / np.sum(weights)  # normalize\n",
    "    \n",
    "    # Default means and stds\n",
    "    if means is None:\n",
    "        means = rng.uniform(-5, 5, size=n_components)\n",
    "    if stds is None:\n",
    "        stds = rng.uniform(0.5, 2.0, size=n_components)\n",
    "\n",
    "    # Sample component for each time step\n",
    "    component_ids = rng.choice(n_components, size=length, p=weights)\n",
    "    \n",
    "    # Draw samples from corresponding Gaussians\n",
    "    ts = rng.normal(means[component_ids], stds[component_ids])\n",
    "    \n",
    "    return ts, component_ids\n",
    "\n",
    "\n",
    "# Example usage\n",
    "ts, comps = gaussian_mixture_timeseries(500, n_components=2, random_state=42)\n",
    "ts2, comps = gaussian_mixture_timeseries(500, n_components=2, random_state=41)\n",
    "print(\"Time series:\", ts)\n",
    "print(\"Component IDs:\", comps)\n",
    "\n",
    "X = np.concatenate((X1[0], X1[1]))\n",
    "Y = np.concatenate((X2[0], X2[1]))\n"
   ]
  },
  {
   "cell_type": "code",
   "execution_count": 1,
   "id": "9641cce8",
   "metadata": {},
   "outputs": [],
   "source": [
    "import numpy as np\n",
    "import ot\n",
    "import pandas as pd\n",
    "from collections import defaultdict\n",
    "import seaborn as sns\n",
    "import matplotlib.pyplot as plt\n",
    "import TiOT_lib\n",
    "import os\n",
    "\n",
    "def process_data(dataset_name, start1, start2, numpoint ):\n",
    "    filepath = os.path.join(\"time_series_kNN\", dataset_name, dataset_name + \"_TRAIN.txt\" )\n",
    "\n",
    "    with open(filepath, \"r\") as file:\n",
    "        data = [line.strip().split() for line in file]\n",
    "\n",
    "    # Convert to numerical values if needed\n",
    "    data = [[float(value) for value in row] for row in data]\n",
    "\n",
    "    X = [row[1:] for row in data]\n",
    "    X1 = X[start1: start1 + numpoint]\n",
    "    X2 = X[start2: start2 + numpoint]\n",
    "    return X1, X2\n",
    "dataset_name = 'DistalPhalanxOutlineCorrect' \n",
    "X1, X2 = process_data(dataset_name, start1=0, start2=10, numpoint=10)\n"
   ]
  },
  {
   "cell_type": "code",
   "execution_count": 2,
   "id": "bbaf0b6a",
   "metadata": {},
   "outputs": [],
   "source": [
    "X, Y = X1[0], X1[6]"
   ]
  },
  {
   "cell_type": "code",
   "execution_count": 3,
   "id": "160fc546",
   "metadata": {},
   "outputs": [
    {
     "name": "stdout",
     "output_type": "stream",
     "text": [
      "Newton Algorithm converges after 5 iterations with w = 0.6719733848655998, df = 9.008173547375709e-12, df2 = 0.049851568976736205 and possible stepsize 1/df2 = 20.059549188244432\n",
      "Newton Algorithm converges after 4 iterations with w = 0.6873852061578691, df = 1.9319687698596266e-09, df2 = 0.4969467188430948 and possible stepsize 1/df2 = 2.0122881630610756\n",
      "Newton Algorithm converges after 4 iterations with w = 0.6924423883834997, df = 1.912786986094095e-12, df2 = 0.607873572398639 and possible stepsize 1/df2 = 1.6450789200360356\n",
      "Newton Algorithm converges after 3 iterations with w = 0.6911633751548044, df = 3.753581183287696e-09, df2 = 0.7421197328643944 and possible stepsize 1/df2 = 1.3474914568573093\n",
      "Newton Algorithm converges after 4 iterations with w = 0.6877544285151709, df = 1.2925520029294368e-12, df2 = 0.8369982792044617 and possible stepsize 1/df2 = 1.1947455865147847\n",
      "Newton Algorithm converges after 4 iterations with w = 0.6842493144112045, df = 2.473959622231736e-12, df2 = 0.8993629977983331 and possible stepsize 1/df2 = 1.1118980905908173\n",
      "Newton Algorithm converges after 4 iterations with w = 0.6813778986859161, df = 6.237078995635637e-13, df2 = 0.945031772874362 and possible stepsize 1/df2 = 1.0581654804668095\n",
      "Newton Algorithm converges after 3 iterations with w = 0.6793589042794158, df = 5.175688695853442e-08, df2 = 0.9789454560069113 and possible stepsize 1/df2 = 1.021507371900953\n",
      "Newton Algorithm converges after 3 iterations with w = 0.6781119691761543, df = 7.621239780323391e-09, df2 = 1.0048605431426045 and possible stepsize 1/df2 = 0.995162967462725\n",
      "Newton Algorithm converges after 3 iterations with w = 0.6774783558282039, df = 5.070697670344487e-10, df2 = 1.0249075309126283 and possible stepsize 1/df2 = 0.9756977774468596\n",
      "Newton Algorithm converges after 3 iterations with w = 0.6773062495479463, df = 2.7405974625110963e-12, df2 = 1.040523307994518 and possible stepsize 1/df2 = 0.9610548772111394\n",
      "Newton Algorithm converges after 3 iterations with w = 0.6774677077214458, df = 2.1049719042473547e-12, df2 = 1.0528760062934528 and possible stepsize 1/df2 = 0.9497794555319029\n",
      "Newton Algorithm converges after 3 iterations with w = 0.6778558791217988, df = 6.975373555671849e-11, df2 = 1.0628341538372241 and possible stepsize 1/df2 = 0.9408805657868919\n",
      "Newton Algorithm converges after 3 iterations with w = 0.6783823433615486, df = 2.342653282732393e-10, df2 = 1.0710042844302319 and possible stepsize 1/df2 = 0.9337030808723554\n",
      "Newton Algorithm converges after 3 iterations with w = 0.6789759189294405, df = 3.7599677885080673e-10, df2 = 1.0778241668438837 and possible stepsize 1/df2 = 0.927795117944172\n",
      "Newton Algorithm converges after 3 iterations with w = 0.6795819422832912, df = 4.0600178590182584e-10, df2 = 1.0836254321138006 and possible stepsize 1/df2 = 0.9228281012649596\n",
      "Newton Algorithm converges after 3 iterations with w = 0.680161545280301, df = 3.377599728767236e-10, df2 = 1.08866172797668 and possible stepsize 1/df2 = 0.9185589741071718\n",
      "Newton Algorithm converges after 3 iterations with w = 0.6806900725442924, df = 2.3233055746179482e-10, df2 = 1.0931213066552359 and possible stepsize 1/df2 = 0.9148115528548509\n",
      "Newton Algorithm converges after 3 iterations with w = 0.6811543133111183, df = 1.3766162407051474e-10, df2 = 1.0971372687668972 and possible stepsize 1/df2 = 0.9114629759354794\n",
      "Newton Algorithm converges after 3 iterations with w = 0.681549194533441, df = 7.177342964750921e-11, df2 = 1.100800082646594 and possible stepsize 1/df2 = 0.9084301643544159\n",
      "Newton Algorithm converges after 3 iterations with w = 0.6818748221107156, df = 3.307351636484823e-11, df2 = 1.1041708318078807 and possible stepsize 1/df2 = 0.9056569610362558\n",
      "Newton Algorithm converges after 3 iterations with w = 0.6821343120768052, df = 1.3298216802910823e-11, df2 = 1.1072921366191917 and possible stepsize 1/df2 = 0.903104038156743\n",
      "Newton Algorithm converges after 3 iterations with w = 0.6823323865695733, df = 4.503256383243948e-12, df2 = 1.1101954636743832 and possible stepsize 1/df2 = 0.9007422861289017\n",
      "Newton Algorithm converges after 3 iterations with w = 0.6824745204608471, df = 1.191386182416987e-12, df2 = 1.112905364371101 and possible stepsize 1/df2 = 0.8985489979780055\n",
      "Newton Algorithm converges after 3 iterations with w = 0.6825664328509649, df = 2.0796927548139e-13, df2 = 1.1154417743412148 and possible stepsize 1/df2 = 0.8965057818375188\n",
      "Newton Algorithm converges after 2 iterations with w = 0.6826137840848803, df = 3.446842134977035e-08, df2 = 1.1178222377667486 and possible stepsize 1/df2 = 0.8945966238763143\n",
      "Newton Algorithm converges after 2 iterations with w = 0.6826219962496171, df = 1.0378269336584409e-09, df2 = 1.1200579745274406 and possible stepsize 1/df2 = 0.8928109283110155\n",
      "Newton Algorithm converges after 2 iterations with w = 0.6825961505287561, df = 1.0290166732921345e-08, df2 = 1.1221640452758288 and possible stepsize 1/df2 = 0.8911353061166731\n",
      "Newton Algorithm converges after 2 iterations with w = 0.6825409340794515, df = 4.7011229225104624e-08, df2 = 1.1241504301837302 and possible stepsize 1/df2 = 0.8895606612333554\n",
      "TiOT-BCD Algorithm converges after 562 iterations \n"
     ]
    },
    {
     "data": {
      "text/plain": [
       "(0.034144563942107575, 0.010279799999999284)"
      ]
     },
     "execution_count": 3,
     "metadata": {},
     "output_type": "execute_result"
    }
   ],
   "source": [
    "d0, pi, w, t = TiOT_lib.eTiOT(X, Y, eps = 0.01, freq = 20, solver='newton', verbose=2, timing=True)\n",
    "d0, t"
   ]
  },
  {
   "cell_type": "code",
   "execution_count": 4,
   "id": "2f26f8fa",
   "metadata": {},
   "outputs": [
    {
     "data": {
      "text/plain": [
       "(0.034146006072333125, 0.08259199999999822)"
      ]
     },
     "execution_count": 4,
     "metadata": {},
     "output_type": "execute_result"
    }
   ],
   "source": [
    "d1, pi, w, t = TiOT_lib.eTiOT(X, Y, eps = 0.01, eta=0.1, freq = 20, verbose=False, timing=True, submax_iter=100)\n",
    "d1, t"
   ]
  },
  {
   "cell_type": "code",
   "execution_count": 4,
   "id": "fefa7d6b",
   "metadata": {},
   "outputs": [
    {
     "name": "stdout",
     "output_type": "stream",
     "text": [
      "Total subiteration needed for PGD: 19 with df = -0.0480113146621186\n",
      "Total subiteration needed for PGD: 19 with df = -0.04885730901578723\n",
      "Total subiteration needed for PGD: 19 with df = -0.04720987836665548\n",
      "Total subiteration needed for PGD: 19 with df = -0.04519027360131247\n",
      "Total subiteration needed for PGD: 19 with df = -0.043055287024125755\n",
      "Total subiteration needed for PGD: 19 with df = -0.04093485593669537\n",
      "TiOT-BCD Algorithm converges after 101 iterations\n",
      "||g-g_old|| = 0.0062967749262412545\n"
     ]
    },
    {
     "data": {
      "text/plain": [
       "(0.06279226372256227, 0.05121640000000127)"
      ]
     },
     "execution_count": 4,
     "metadata": {},
     "output_type": "execute_result"
    }
   ],
   "source": [
    "d2, pi, w, t = TiOT_lib.eTiOT(X, Y, eps = 0.1, freq = 20, verbose=True, timing=True, submax_iter=20)\n",
    "d2, t"
   ]
  },
  {
   "cell_type": "code",
   "execution_count": 5,
   "id": "70d0b9d0",
   "metadata": {},
   "outputs": [
    {
     "name": "stdout",
     "output_type": "stream",
     "text": [
      "Total subiteration needed for PGD: 49 with df = -0.028703110824373747\n",
      "Total subiteration needed for PGD: 49 with df = -0.028788357247891097\n",
      "Total subiteration needed for PGD: 49 with df = -0.028034624328462727\n",
      "Total subiteration needed for PGD: 49 with df = -0.02712501912648551\n",
      "Total subiteration needed for PGD: 49 with df = -0.026154621599509317\n",
      "Total subiteration needed for PGD: 49 with df = -0.02516016023047627\n",
      "Total subiteration needed for PGD: 49 with df = -0.0241575637782391\n",
      "Total subiteration needed for PGD: 49 with df = -0.023153598924250215\n",
      "Total subiteration needed for PGD: 49 with df = -0.02215067164831322\n",
      "Total subiteration needed for PGD: 49 with df = -0.02114907998204344\n",
      "Total subiteration needed for PGD: 49 with df = -0.020148124279724233\n",
      "Total subiteration needed for PGD: 49 with df = -0.01914667124920419\n",
      "Total subiteration needed for PGD: 49 with df = -0.01814345736337799\n",
      "Total subiteration needed for PGD: 49 with df = -0.017137277407998065\n",
      "Total subiteration needed for PGD: 49 with df = -0.016127138280350287\n",
      "Total subiteration needed for PGD: 49 with df = -0.015112426780283274\n",
      "Total subiteration needed for PGD: 49 with df = -0.014093123004056482\n",
      "Total subiteration needed for PGD: 49 with df = -0.013070076574508944\n",
      "Total subiteration needed for PGD: 49 with df = -0.012045343823261518\n",
      "Total subiteration needed for PGD: 49 with df = -0.011022555487897982\n",
      "Total subiteration needed for PGD: 49 with df = -0.010007246087390783\n",
      "Total subiteration needed for PGD: 49 with df = -0.009007035446124167\n",
      "Total subiteration needed for PGD: 49 with df = -0.00803152886500724\n",
      "Total subiteration needed for PGD: 49 with df = -0.007091823004693314\n",
      "Total subiteration needed for PGD: 49 with df = -0.006199590778779691\n",
      "Total subiteration needed for PGD: 49 with df = -0.005365859539933815\n",
      "Total subiteration needed for PGD: 49 with df = -0.0045997357508902196\n",
      "Total subiteration needed for PGD: 49 with df = -0.003907387057536761\n",
      "Total subiteration needed for PGD: 49 with df = -0.0032915240103540315\n",
      "Total subiteration needed for PGD: 49 with df = -0.0027514581589560593\n",
      "Total subiteration needed for PGD: 49 with df = -0.0022836369418026865\n",
      "Total subiteration needed for PGD: 49 with df = -0.0018824490047194184\n",
      "Total subiteration needed for PGD: 49 with df = -0.0015410825869141072\n",
      "Total subiteration needed for PGD: 49 with df = -0.0012522774995631977\n",
      "Total subiteration needed for PGD: 49 with df = -0.001008891463085921\n",
      "Total subiteration needed for PGD: 49 with df = -0.0008042687818699497\n",
      "Total subiteration needed for PGD: 49 with df = -0.0006324396074363399\n",
      "Total subiteration needed for PGD: 49 with df = -0.00048819353570876776\n",
      "Total subiteration needed for PGD: 49 with df = -0.0003670706866544287\n",
      "Total subiteration needed for PGD: 49 with df = -0.0002653052511938303\n",
      "Total subiteration needed for PGD: 49 with df = -0.0001797465121206723\n",
      "TiOT-BCD Algorithm converges after 161 iterations\n",
      "||g-g_old|| = 0.004418963751753658\n"
     ]
    },
    {
     "data": {
      "text/plain": [
       "(0.03672474723124107, 0.5282674000000043)"
      ]
     },
     "execution_count": 5,
     "metadata": {},
     "output_type": "execute_result"
    }
   ],
   "source": [
    "d3, pi, w, t = TiOT_lib.eTiOT(X, Y, eps = 0.05, freq = 4, solver='PGD', verbose=True, timing=True)\n",
    "d3,t"
   ]
  },
  {
   "cell_type": "code",
   "execution_count": 30,
   "id": "29e156c0",
   "metadata": {},
   "outputs": [
    {
     "data": {
      "text/plain": [
       "(8.512607840849284e-10, 7.136090306093801e-06, 2.9745295493516233e-06)"
      ]
     },
     "execution_count": 30,
     "metadata": {},
     "output_type": "execute_result"
    }
   ],
   "source": [
    "np.abs(d1 -d0), np.abs(d2-d0), np.abs(d3-d0)"
   ]
  },
  {
   "cell_type": "code",
   "execution_count": 34,
   "id": "c2eac6b3",
   "metadata": {},
   "outputs": [
    {
     "data": {
      "text/plain": [
       "1000"
      ]
     },
     "execution_count": 34,
     "metadata": {},
     "output_type": "execute_result"
    }
   ],
   "source": [
    "def f(x):\n",
    "    return x*10, x*100\n",
    "f(10)[-1]"
   ]
  },
  {
   "cell_type": "code",
   "execution_count": 35,
   "id": "33dcf651",
   "metadata": {},
   "outputs": [
    {
     "data": {
      "text/plain": [
       "2000"
      ]
     },
     "execution_count": 35,
     "metadata": {},
     "output_type": "execute_result"
    }
   ],
   "source": [
    "f(20)[-1]"
   ]
  }
 ],
 "metadata": {
  "kernelspec": {
   "display_name": "Python 3",
   "language": "python",
   "name": "python3"
  },
  "language_info": {
   "codemirror_mode": {
    "name": "ipython",
    "version": 3
   },
   "file_extension": ".py",
   "mimetype": "text/x-python",
   "name": "python",
   "nbconvert_exporter": "python",
   "pygments_lexer": "ipython3",
   "version": "3.8.0"
  }
 },
 "nbformat": 4,
 "nbformat_minor": 5
}
