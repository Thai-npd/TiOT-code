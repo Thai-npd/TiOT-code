{
 "cells": [
  {
   "cell_type": "code",
   "execution_count": 22,
   "id": "e5e395b2",
   "metadata": {},
   "outputs": [],
   "source": [
    "import pandas as pd\n",
    "import numpy as np\n",
    "import os\n",
    "\n",
    "DATANAME = 'MiddlePhalanxTW'\n",
    "eps_list = [0.005*i for i in range(1,21)]\n",
    "eps_name = f\" ({eps_list[0]} to {eps_list[-1]})\" \n",
    "dataset_name = DATANAME\n",
    "result_file = os.path.join(\"kfold_kNN_data\", \"saved_results\",\"Results on \" + dataset_name + eps_name + '_new_' + '.csv')\n",
    "df = pd.read_csv(result_file)"
   ]
  },
  {
   "cell_type": "code",
   "execution_count": 23,
   "id": "6a289af3",
   "metadata": {},
   "outputs": [],
   "source": [
    "min_records = {'eTiOT': [], 'eTAOT' : []}\n",
    "eps_records = {'eTiOT': [], 'eTAOT' : []}\n",
    "\n",
    "def extract_best_eps(indices, alg):\n",
    "    min_err = np.inf\n",
    "    min_eps = 0\n",
    "    for i in indices:\n",
    "        if float(df[alg][i]) <= min_err and df['eps'][i] != 'Final error':\n",
    "            min_err = float(df[alg][i])\n",
    "            min_eps = float(df['eps'][i])\n",
    "    return min_eps\n",
    "\n",
    "eps_records['eTiOT'].append(extract_best_eps(range(len(df)), 'eTiOT'))\n",
    "eps_records['eTAOT'].append(extract_best_eps(range(len(df)), 'eTAOT'))\n",
    "eps_records['eTiOT'].append(extract_best_eps(range(1,len(df),2), 'eTiOT'))\n",
    "eps_records['eTAOT'].append(extract_best_eps(range(1,len(df),2), 'eTAOT'))\n"
   ]
  },
  {
   "cell_type": "code",
   "execution_count": 24,
   "id": "47392af6",
   "metadata": {},
   "outputs": [],
   "source": [
    "eps_list = [0.01*i for i in range(1,11)]\n",
    "eps_name = f\" ({eps_list[0]} to {eps_list[-1]})\"   \n",
    "result_file_test = os.path.join(\"kNN_data\", \"saved_results\",\"Results on \" + dataset_name + eps_name + '_new_' +'.csv')\n",
    "col_map = {\"eTiOT\": \"eTiOT\", \"eTAOT\": r\" eTAOT($\\omega = \\omega_{\\text{grid}})$\"}\n",
    "df2 = pd.read_csv(result_file_test)"
   ]
  },
  {
   "cell_type": "code",
   "execution_count": 25,
   "id": "f3c8dc71",
   "metadata": {},
   "outputs": [
    {
     "data": {
      "text/plain": [
       "Index(['eps', 'eTiOT', 'eTAOT$(\\omega = \\omega_{\\text{grid}} \\;/\\; 5)$',\n",
       "       'eTAOT$(\\omega = \\omega_{\\text{grid}})$',\n",
       "       'eTAOT$(\\omega = \\omega_{\\text{grid}} \\times 5)$'],\n",
       "      dtype='object')"
      ]
     },
     "execution_count": 25,
     "metadata": {},
     "output_type": "execute_result"
    }
   ],
   "source": [
    "df2.columns"
   ]
  },
  {
   "cell_type": "code",
   "execution_count": 26,
   "id": "5cd12f4e",
   "metadata": {},
   "outputs": [],
   "source": [
    "for i in range(len(df2)):\n",
    "    if float(df2['eps'][i]) == eps_records['eTiOT'][1]:\n",
    "        eps_records['eTiOT'].append(df2['eTiOT'][i])\n",
    "    if float(df2['eps'][i]) == eps_records['eTAOT'][1]:\n",
    "        eps_records['eTAOT'].append(df2[df2.columns[3]][i])"
   ]
  },
  {
   "cell_type": "code",
   "execution_count": 27,
   "id": "34a2a930",
   "metadata": {},
   "outputs": [
    {
     "data": {
      "text/plain": [
       "{'eTiOT': [0.085, 0.09, np.float64(0.4675324675324676)],\n",
       " 'eTAOT': [0.05, 0.05, np.float64(0.4545454545454546)]}"
      ]
     },
     "execution_count": 27,
     "metadata": {},
     "output_type": "execute_result"
    }
   ],
   "source": [
    "eps_records"
   ]
  },
  {
   "cell_type": "code",
   "execution_count": 28,
   "id": "1e6f3d14",
   "metadata": {},
   "outputs": [
    {
     "name": "stdout",
     "output_type": "stream",
     "text": [
      "Updated result_file with final_error + eps values.\n"
     ]
    }
   ],
   "source": [
    "new_rows = []\n",
    "\n",
    "# eps for final_error (grid=0.005)\n",
    "new_rows.append({\n",
    "    \"eps\": \"eps_final_error\",\n",
    "    \"eTiOT\": eps_records[\"eTiOT\"][0],\n",
    "    \"eTAOT\": eps_records[\"eTAOT\"][0]\n",
    "})\n",
    "\n",
    "# final_error for grid=0.01\n",
    "new_rows.append({\n",
    "    \"eps\": \"eps_final_error_grid001\",\n",
    "    \"eTiOT\": eps_records[\"eTiOT\"][1],\n",
    "    \"eTAOT\": eps_records[\"eTAOT\"][1],\n",
    "})\n",
    "\n",
    "# eps for grid=0.01\n",
    "new_rows.append({\n",
    "    \"eps\": \"final_error_grid001\",\n",
    "    \"eTiOT\": eps_records[\"eTiOT\"][2],\n",
    "    \"eTAOT\": eps_records[\"eTAOT\"][2],\n",
    "})\n",
    "\n",
    "# append new rows after the last row\n",
    "df = pd.concat([df, pd.DataFrame(new_rows)], ignore_index=True)\n",
    "\n",
    "# save back\n",
    "df.to_csv(result_file, index=False)\n",
    "print(\"Updated result_file with final_error + eps values.\")"
   ]
  },
  {
   "cell_type": "code",
   "execution_count": 2,
   "id": "69fff600",
   "metadata": {},
   "outputs": [
    {
     "name": "stdout",
     "output_type": "stream",
     "text": [
      "176\n"
     ]
    }
   ],
   "source": [
    "print(len(X1[0]))"
   ]
  },
  {
   "cell_type": "markdown",
   "id": "4c7d3c1f",
   "metadata": {},
   "source": [
    "## Concatenate TiOT into overall results"
   ]
  },
  {
   "cell_type": "code",
   "execution_count": 5,
   "id": "fe82e67a",
   "metadata": {},
   "outputs": [],
   "source": [
    "import pandas as pd\n",
    "import numpy as np\n",
    "import os\n",
    "eps_list = [0.01*i for i in range(1,11)]\n",
    "eps_name = f\" ({eps_list[0]} to {eps_list[-1]})\" \n",
    "dataset_name = \"ProximalPhalanxTW\"\n",
    "result_file = os.path.join(\"kNN_data\", \"saved_results\",\"Results on \" + dataset_name + eps_name + '_new_' +'.csv')\n",
    "TiOT_file = os.path.join(\"kNN_data\", \"saved_results\",\"Results on \" + dataset_name + eps_name + '_freq5_TiOTonly' + '.csv')\n",
    "final_file = os.path.join(\"kNN_data\", \"saved_results\",\"Results on \" + dataset_name + eps_name + '_freq5_' + '.csv')\n",
    "# Read both CSV files\n",
    "allresult = pd.read_csv(result_file)\n",
    "TiOTresult = pd.read_csv(TiOT_file)\n",
    "\n",
    "# Replace TiOT column in file1 with TiOT column from file2\n",
    "allresult[\"eTiOT\"] = TiOTresult[\"eTiOT\"]\n",
    "\n",
    "# Save the modified file1\n",
    "allresult.to_csv(final_file, index=False)"
   ]
  },
  {
   "cell_type": "markdown",
   "id": "0ce97ae3",
   "metadata": {},
   "source": [
    "## End of concatenation"
   ]
  },
  {
   "cell_type": "code",
   "execution_count": 2,
   "id": "74bef9eb",
   "metadata": {},
   "outputs": [],
   "source": [
    "import numpy as np\n",
    "\n",
    "\n",
    "def gaussian_mixture_timeseries(length, n_components=3, weights=None, means=None, stds=None, random_state=None):\n",
    "    \"\"\"\n",
    "    Generate a Gaussian mixture time series.\n",
    "    \n",
    "    Parameters:\n",
    "        length (int): Length of the time series.\n",
    "        n_components (int): Number of Gaussian components.\n",
    "        weights (list or None): Mixing weights (must sum to 1). If None, uniform weights are used.\n",
    "        means (list or None): Means of Gaussians. If None, random values are used.\n",
    "        stds (list or None): Standard deviations of Gaussians. If None, random values are used.\n",
    "        random_state (int or None): Random seed for reproducibility.\n",
    "\n",
    "    Returns:\n",
    "        ts (ndarray): Generated time series of shape (length,).\n",
    "        component_ids (ndarray): The component index chosen at each time step.\n",
    "    \"\"\"\n",
    "    rng = np.random.default_rng(random_state)\n",
    "\n",
    "    # Default weights\n",
    "    if weights is None:\n",
    "        weights = np.ones(n_components) / n_components\n",
    "    weights = np.array(weights) / np.sum(weights)  # normalize\n",
    "    \n",
    "    # Default means and stds\n",
    "    if means is None:\n",
    "        means = rng.uniform(-5, 5, size=n_components)\n",
    "    if stds is None:\n",
    "        stds = rng.uniform(0.5, 2.0, size=n_components)\n",
    "\n",
    "    # Sample component for each time step\n",
    "    component_ids = rng.choice(n_components, size=length, p=weights)\n",
    "    \n",
    "    # Draw samples from corresponding Gaussians\n",
    "    ts = rng.normal(means[component_ids], stds[component_ids])\n",
    "    \n",
    "    return ts, component_ids\n",
    "\n",
    "\n",
    "# Example usage\n",
    "ts, comps = gaussian_mixture_timeseries(500, n_components=2, random_state=42)\n",
    "ts2, comps = gaussian_mixture_timeseries(500, n_components=2, random_state=41)\n",
    "\n",
    "\n"
   ]
  },
  {
   "cell_type": "code",
   "execution_count": null,
   "id": "71aa4adc",
   "metadata": {},
   "outputs": [
    {
     "data": {
      "text/plain": [
       "(0.15117875678506057, 0.1705291000000102)"
      ]
     },
     "execution_count": 11,
     "metadata": {},
     "output_type": "execute_result"
    }
   ],
   "source": [
    "import numpy as np\n",
    "import ot\n",
    "import pandas as pd\n",
    "from collections import defaultdict\n",
    "import seaborn as sns\n",
    "import matplotlib.pyplot as plt\n",
    "import TiOT_lib\n",
    "import os\n",
    "\n",
    "d0, pi, w, t = TiOT_lib.eTiOT(ts, ts2, eps = 0.1, freq = 20, solver='newton', verbose=False, timing=True)\n",
    "d0, t"
   ]
  },
  {
   "cell_type": "code",
   "execution_count": 4,
   "id": "ef76aaf6",
   "metadata": {},
   "outputs": [
    {
     "name": "stdout",
     "output_type": "stream",
     "text": [
      "Total subiteration needed for PGD: 21 with df = -3.3838906544349e-08\n",
      "Total subiteration needed for PGD: 12 with df = -9.692690699836031e-09\n",
      "Total subiteration needed for PGD: 7 with df = -1.6730240306233528e-08\n",
      "Total subiteration needed for PGD: 6 with df = -2.265485321028041e-09\n",
      "Total subiteration needed for PGD: 5 with df = -1.988943219269259e-09\n",
      "Total subiteration needed for PGD: 4 with df = -5.114201713201229e-09\n",
      "TiOT-BCD Algorithm converges after 102 iterations \n"
     ]
    },
    {
     "data": {
      "text/plain": [
       "(0.151178756267585, 0.30783180000000243)"
      ]
     },
     "execution_count": 4,
     "metadata": {},
     "output_type": "execute_result"
    }
   ],
   "source": [
    "d1, pi, w, t = TiOT_lib.eTiOT(ts, ts2, eps = 0.1, freq = 20,  verbose=2, timing=True, eta=1, init_stepsize=False)\n",
    "d1, t"
   ]
  },
  {
   "cell_type": "code",
   "execution_count": 10,
   "id": "917cd43f",
   "metadata": {},
   "outputs": [
    {
     "name": "stdout",
     "output_type": "stream",
     "text": [
      "TAOT-BCD Algorithm converges after 22 iterations\n"
     ]
    },
    {
     "data": {
      "text/plain": [
       "(0.13795703386781924, 0.010080599999994888)"
      ]
     },
     "execution_count": 10,
     "metadata": {},
     "output_type": "execute_result"
    }
   ],
   "source": [
    "d1, pi, t = TiOT_lib.eTAOT(ts, ts2, eps = 0.1, freq = 20,  verbose=2, timing=True)\n",
    "d1, t"
   ]
  },
  {
   "cell_type": "code",
   "execution_count": 29,
   "id": "9641cce8",
   "metadata": {},
   "outputs": [],
   "source": [
    "import numpy as np\n",
    "import ot\n",
    "import pandas as pd\n",
    "from collections import defaultdict\n",
    "import seaborn as sns\n",
    "import matplotlib.pyplot as plt\n",
    "import TiOT_lib\n",
    "import os\n",
    "\n",
    "def process_data(dataset_name, start1, start2, numpoint ):\n",
    "    filepath = os.path.join(\"time_series_kNN\", dataset_name, dataset_name + \"_TRAIN.txt\" )\n",
    "\n",
    "    with open(filepath, \"r\") as file:\n",
    "        data = [line.strip().split() for line in file]\n",
    "\n",
    "    # Convert to numerical values if needed\n",
    "    data = [[float(value) for value in row] for row in data]\n",
    "\n",
    "    X = [row[1:] for row in data]\n",
    "    X1 = X[start1: start1 + numpoint]\n",
    "    X2 = X[start2: start2 + numpoint]\n",
    "    return X1, X2\n",
    "dataset_name = 'DistalPhalanxOutlineCorrect' \n",
    "X1, X2 = process_data(dataset_name, start1=0, start2=10, numpoint=100)\n"
   ]
  },
  {
   "cell_type": "code",
   "execution_count": 52,
   "id": "bbaf0b6a",
   "metadata": {},
   "outputs": [],
   "source": [
    "X, Y = X1[1], X1[18]"
   ]
  },
  {
   "cell_type": "code",
   "execution_count": 53,
   "id": "160fc546",
   "metadata": {},
   "outputs": [
    {
     "name": "stdout",
     "output_type": "stream",
     "text": [
      "Newton Algorithm converges after 4 iterations with w = 0.6464018446049217, df = 8.236125106572678e-12, df2 = 0.21216957592183988 and possible stepsize 1/df2 = 4.7132110985054005\n",
      "Newton Algorithm converges after 4 iterations with w = 0.6632783113863736, df = 2.933125313811513e-12, df2 = 0.38914196055325856 and possible stepsize 1/df2 = 2.5697562878551063\n",
      "Newton Algorithm converges after 3 iterations with w = 0.6648066386483149, df = 1.0886902273785082e-10, df2 = 0.4320178587070564 and possible stepsize 1/df2 = 2.314719125252834\n",
      "Newton Algorithm converges after 3 iterations with w = 0.6629464834398444, df = 3.5696804279866656e-10, df2 = 0.4546339588275269 and possible stepsize 1/df2 = 2.199571722664402\n",
      "Newton Algorithm converges after 3 iterations with w = 0.6610864919502826, df = 4.039482246961934e-10, df2 = 0.46452281268284756 and possible stepsize 1/df2 = 2.152746803164539\n",
      "TiOT-BCD Algorithm converges after 82 iterations \n"
     ]
    },
    {
     "data": {
      "text/plain": [
       "(0.05539122417710113, 0.0019677000000228873)"
      ]
     },
     "execution_count": 53,
     "metadata": {},
     "output_type": "execute_result"
    }
   ],
   "source": [
    "d0, pi, w, t = TiOT_lib.eTiOT(X, Y, eps = 0.05, freq = 20, solver='newton', verbose=2, timing=True)\n",
    "d0, t"
   ]
  },
  {
   "cell_type": "code",
   "execution_count": 28,
   "id": "2f26f8fa",
   "metadata": {},
   "outputs": [
    {
     "name": "stdout",
     "output_type": "stream",
     "text": [
      "Total subiteration needed for PGD: 199 with df = -0.0007157010214145224\n",
      "Total subiteration needed for PGD: 94 with df = -9.364147168420232e-07\n",
      "Total subiteration needed for PGD: 143 with df = -9.447685307270234e-07\n",
      "Total subiteration needed for PGD: 156 with df = -9.299602799469134e-07\n",
      "TiOT-BCD Algorithm converges after 62 iterations \n"
     ]
    },
    {
     "data": {
      "text/plain": [
       "(0.05548163755867227, 0.025340199999845936)"
      ]
     },
     "execution_count": 28,
     "metadata": {},
     "output_type": "execute_result"
    }
   ],
   "source": [
    "d1, pi, w, t = TiOT_lib.eTiOT(X, Y, eps = 0.05, eta=0.1, freq = 20, verbose=True, timing=True, submax_iter=200)\n",
    "d1, t"
   ]
  },
  {
   "cell_type": "code",
   "execution_count": 4,
   "id": "fefa7d6b",
   "metadata": {},
   "outputs": [
    {
     "name": "stdout",
     "output_type": "stream",
     "text": [
      "Total subiteration needed for PGD: 19 with df = -0.0480113146621186\n",
      "Total subiteration needed for PGD: 19 with df = -0.04885730901578723\n",
      "Total subiteration needed for PGD: 19 with df = -0.04720987836665548\n",
      "Total subiteration needed for PGD: 19 with df = -0.04519027360131247\n",
      "Total subiteration needed for PGD: 19 with df = -0.043055287024125755\n",
      "Total subiteration needed for PGD: 19 with df = -0.04093485593669537\n",
      "TiOT-BCD Algorithm converges after 101 iterations\n",
      "||g-g_old|| = 0.0062967749262412545\n"
     ]
    },
    {
     "data": {
      "text/plain": [
       "(0.06279226372256227, 0.05121640000000127)"
      ]
     },
     "execution_count": 4,
     "metadata": {},
     "output_type": "execute_result"
    }
   ],
   "source": [
    "d2, pi, w, t = TiOT_lib.eTiOT(X, Y, eps = 0.1, freq = 20, verbose=True, timing=True, submax_iter=20)\n",
    "d2, t"
   ]
  },
  {
   "cell_type": "code",
   "execution_count": 5,
   "id": "70d0b9d0",
   "metadata": {},
   "outputs": [
    {
     "name": "stdout",
     "output_type": "stream",
     "text": [
      "Total subiteration needed for PGD: 49 with df = -0.028703110824373747\n",
      "Total subiteration needed for PGD: 49 with df = -0.028788357247891097\n",
      "Total subiteration needed for PGD: 49 with df = -0.028034624328462727\n",
      "Total subiteration needed for PGD: 49 with df = -0.02712501912648551\n",
      "Total subiteration needed for PGD: 49 with df = -0.026154621599509317\n",
      "Total subiteration needed for PGD: 49 with df = -0.02516016023047627\n",
      "Total subiteration needed for PGD: 49 with df = -0.0241575637782391\n",
      "Total subiteration needed for PGD: 49 with df = -0.023153598924250215\n",
      "Total subiteration needed for PGD: 49 with df = -0.02215067164831322\n",
      "Total subiteration needed for PGD: 49 with df = -0.02114907998204344\n",
      "Total subiteration needed for PGD: 49 with df = -0.020148124279724233\n",
      "Total subiteration needed for PGD: 49 with df = -0.01914667124920419\n",
      "Total subiteration needed for PGD: 49 with df = -0.01814345736337799\n",
      "Total subiteration needed for PGD: 49 with df = -0.017137277407998065\n",
      "Total subiteration needed for PGD: 49 with df = -0.016127138280350287\n",
      "Total subiteration needed for PGD: 49 with df = -0.015112426780283274\n",
      "Total subiteration needed for PGD: 49 with df = -0.014093123004056482\n",
      "Total subiteration needed for PGD: 49 with df = -0.013070076574508944\n",
      "Total subiteration needed for PGD: 49 with df = -0.012045343823261518\n",
      "Total subiteration needed for PGD: 49 with df = -0.011022555487897982\n",
      "Total subiteration needed for PGD: 49 with df = -0.010007246087390783\n",
      "Total subiteration needed for PGD: 49 with df = -0.009007035446124167\n",
      "Total subiteration needed for PGD: 49 with df = -0.00803152886500724\n",
      "Total subiteration needed for PGD: 49 with df = -0.007091823004693314\n",
      "Total subiteration needed for PGD: 49 with df = -0.006199590778779691\n",
      "Total subiteration needed for PGD: 49 with df = -0.005365859539933815\n",
      "Total subiteration needed for PGD: 49 with df = -0.0045997357508902196\n",
      "Total subiteration needed for PGD: 49 with df = -0.003907387057536761\n",
      "Total subiteration needed for PGD: 49 with df = -0.0032915240103540315\n",
      "Total subiteration needed for PGD: 49 with df = -0.0027514581589560593\n",
      "Total subiteration needed for PGD: 49 with df = -0.0022836369418026865\n",
      "Total subiteration needed for PGD: 49 with df = -0.0018824490047194184\n",
      "Total subiteration needed for PGD: 49 with df = -0.0015410825869141072\n",
      "Total subiteration needed for PGD: 49 with df = -0.0012522774995631977\n",
      "Total subiteration needed for PGD: 49 with df = -0.001008891463085921\n",
      "Total subiteration needed for PGD: 49 with df = -0.0008042687818699497\n",
      "Total subiteration needed for PGD: 49 with df = -0.0006324396074363399\n",
      "Total subiteration needed for PGD: 49 with df = -0.00048819353570876776\n",
      "Total subiteration needed for PGD: 49 with df = -0.0003670706866544287\n",
      "Total subiteration needed for PGD: 49 with df = -0.0002653052511938303\n",
      "Total subiteration needed for PGD: 49 with df = -0.0001797465121206723\n",
      "TiOT-BCD Algorithm converges after 161 iterations\n",
      "||g-g_old|| = 0.004418963751753658\n"
     ]
    },
    {
     "data": {
      "text/plain": [
       "(0.03672474723124107, 0.5282674000000043)"
      ]
     },
     "execution_count": 5,
     "metadata": {},
     "output_type": "execute_result"
    }
   ],
   "source": [
    "d3, pi, w, t = TiOT_lib.eTiOT(X, Y, eps = 0.05, freq = 4, solver='PGD', verbose=True, timing=True)\n",
    "d3,t"
   ]
  },
  {
   "cell_type": "code",
   "execution_count": 30,
   "id": "29e156c0",
   "metadata": {},
   "outputs": [
    {
     "data": {
      "text/plain": [
       "(8.512607840849284e-10, 7.136090306093801e-06, 2.9745295493516233e-06)"
      ]
     },
     "execution_count": 30,
     "metadata": {},
     "output_type": "execute_result"
    }
   ],
   "source": [
    "np.abs(d1 -d0), np.abs(d2-d0), np.abs(d3-d0)"
   ]
  },
  {
   "cell_type": "code",
   "execution_count": 34,
   "id": "c2eac6b3",
   "metadata": {},
   "outputs": [
    {
     "data": {
      "text/plain": [
       "1000"
      ]
     },
     "execution_count": 34,
     "metadata": {},
     "output_type": "execute_result"
    }
   ],
   "source": [
    "def f(x):\n",
    "    return x*10, x*100\n",
    "f(10)[-1]"
   ]
  },
  {
   "cell_type": "code",
   "execution_count": 35,
   "id": "33dcf651",
   "metadata": {},
   "outputs": [
    {
     "data": {
      "text/plain": [
       "2000"
      ]
     },
     "execution_count": 35,
     "metadata": {},
     "output_type": "execute_result"
    }
   ],
   "source": [
    "f(20)[-1]"
   ]
  }
 ],
 "metadata": {
  "kernelspec": {
   "display_name": "Python 3",
   "language": "python",
   "name": "python3"
  },
  "language_info": {
   "codemirror_mode": {
    "name": "ipython",
    "version": 3
   },
   "file_extension": ".py",
   "mimetype": "text/x-python",
   "name": "python",
   "nbconvert_exporter": "python",
   "pygments_lexer": "ipython3",
   "version": "3.8.0"
  }
 },
 "nbformat": 4,
 "nbformat_minor": 5
}
