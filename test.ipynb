{
 "cells": [
  {
   "cell_type": "code",
   "execution_count": 22,
   "id": "e5e395b2",
   "metadata": {},
   "outputs": [],
   "source": [
    "import pandas as pd\n",
    "import numpy as np\n",
    "import os\n",
    "\n",
    "DATANAME = 'MiddlePhalanxTW'\n",
    "eps_list = [0.005*i for i in range(1,21)]\n",
    "eps_name = f\" ({eps_list[0]} to {eps_list[-1]})\" \n",
    "dataset_name = DATANAME\n",
    "result_file = os.path.join(\"kfold_kNN_data\", \"saved_results\",\"Results on \" + dataset_name + eps_name + '_new_' + '.csv')\n",
    "df = pd.read_csv(result_file)"
   ]
  },
  {
   "cell_type": "code",
   "execution_count": 23,
   "id": "6a289af3",
   "metadata": {},
   "outputs": [],
   "source": [
    "min_records = {'eTiOT': [], 'eTAOT' : []}\n",
    "eps_records = {'eTiOT': [], 'eTAOT' : []}\n",
    "\n",
    "def extract_best_eps(indices, alg):\n",
    "    min_err = np.inf\n",
    "    min_eps = 0\n",
    "    for i in indices:\n",
    "        if float(df[alg][i]) <= min_err and df['eps'][i] != 'Final error':\n",
    "            min_err = float(df[alg][i])\n",
    "            min_eps = float(df['eps'][i])\n",
    "    return min_eps\n",
    "\n",
    "eps_records['eTiOT'].append(extract_best_eps(range(len(df)), 'eTiOT'))\n",
    "eps_records['eTAOT'].append(extract_best_eps(range(len(df)), 'eTAOT'))\n",
    "eps_records['eTiOT'].append(extract_best_eps(range(1,len(df),2), 'eTiOT'))\n",
    "eps_records['eTAOT'].append(extract_best_eps(range(1,len(df),2), 'eTAOT'))\n"
   ]
  },
  {
   "cell_type": "code",
   "execution_count": 24,
   "id": "47392af6",
   "metadata": {},
   "outputs": [],
   "source": [
    "eps_list = [0.01*i for i in range(1,11)]\n",
    "eps_name = f\" ({eps_list[0]} to {eps_list[-1]})\"   \n",
    "result_file_test = os.path.join(\"kNN_data\", \"saved_results\",\"Results on \" + dataset_name + eps_name + '_new_' +'.csv')\n",
    "col_map = {\"eTiOT\": \"eTiOT\", \"eTAOT\": r\" eTAOT($\\omega = \\omega_{\\text{grid}})$\"}\n",
    "df2 = pd.read_csv(result_file_test)"
   ]
  },
  {
   "cell_type": "code",
   "execution_count": 25,
   "id": "f3c8dc71",
   "metadata": {},
   "outputs": [
    {
     "data": {
      "text/plain": [
       "Index(['eps', 'eTiOT', 'eTAOT$(\\omega = \\omega_{\\text{grid}} \\;/\\; 5)$',\n",
       "       'eTAOT$(\\omega = \\omega_{\\text{grid}})$',\n",
       "       'eTAOT$(\\omega = \\omega_{\\text{grid}} \\times 5)$'],\n",
       "      dtype='object')"
      ]
     },
     "execution_count": 25,
     "metadata": {},
     "output_type": "execute_result"
    }
   ],
   "source": [
    "df2.columns"
   ]
  },
  {
   "cell_type": "code",
   "execution_count": 26,
   "id": "5cd12f4e",
   "metadata": {},
   "outputs": [],
   "source": [
    "for i in range(len(df2)):\n",
    "    if float(df2['eps'][i]) == eps_records['eTiOT'][1]:\n",
    "        eps_records['eTiOT'].append(df2['eTiOT'][i])\n",
    "    if float(df2['eps'][i]) == eps_records['eTAOT'][1]:\n",
    "        eps_records['eTAOT'].append(df2[df2.columns[3]][i])"
   ]
  },
  {
   "cell_type": "code",
   "execution_count": 27,
   "id": "34a2a930",
   "metadata": {},
   "outputs": [
    {
     "data": {
      "text/plain": [
       "{'eTiOT': [0.085, 0.09, np.float64(0.4675324675324676)],\n",
       " 'eTAOT': [0.05, 0.05, np.float64(0.4545454545454546)]}"
      ]
     },
     "execution_count": 27,
     "metadata": {},
     "output_type": "execute_result"
    }
   ],
   "source": [
    "eps_records"
   ]
  },
  {
   "cell_type": "code",
   "execution_count": 28,
   "id": "1e6f3d14",
   "metadata": {},
   "outputs": [
    {
     "name": "stdout",
     "output_type": "stream",
     "text": [
      "Updated result_file with final_error + eps values.\n"
     ]
    }
   ],
   "source": [
    "new_rows = []\n",
    "\n",
    "# eps for final_error (grid=0.005)\n",
    "new_rows.append({\n",
    "    \"eps\": \"eps_final_error\",\n",
    "    \"eTiOT\": eps_records[\"eTiOT\"][0],\n",
    "    \"eTAOT\": eps_records[\"eTAOT\"][0]\n",
    "})\n",
    "\n",
    "# final_error for grid=0.01\n",
    "new_rows.append({\n",
    "    \"eps\": \"eps_final_error_grid001\",\n",
    "    \"eTiOT\": eps_records[\"eTiOT\"][1],\n",
    "    \"eTAOT\": eps_records[\"eTAOT\"][1],\n",
    "})\n",
    "\n",
    "# eps for grid=0.01\n",
    "new_rows.append({\n",
    "    \"eps\": \"final_error_grid001\",\n",
    "    \"eTiOT\": eps_records[\"eTiOT\"][2],\n",
    "    \"eTAOT\": eps_records[\"eTAOT\"][2],\n",
    "})\n",
    "\n",
    "# append new rows after the last row\n",
    "df = pd.concat([df, pd.DataFrame(new_rows)], ignore_index=True)\n",
    "\n",
    "# save back\n",
    "df.to_csv(result_file, index=False)\n",
    "print(\"Updated result_file with final_error + eps values.\")"
   ]
  },
  {
   "cell_type": "code",
   "execution_count": 2,
   "id": "69fff600",
   "metadata": {},
   "outputs": [
    {
     "name": "stdout",
     "output_type": "stream",
     "text": [
      "176\n"
     ]
    }
   ],
   "source": [
    "print(len(X1[0]))"
   ]
  },
  {
   "cell_type": "markdown",
   "id": "4c7d3c1f",
   "metadata": {},
   "source": [
    "## Concatenate TiOT into overall results"
   ]
  },
  {
   "cell_type": "code",
   "execution_count": 5,
   "id": "fe82e67a",
   "metadata": {},
   "outputs": [],
   "source": [
    "import pandas as pd\n",
    "import numpy as np\n",
    "import os\n",
    "eps_list = [0.01*i for i in range(1,11)]\n",
    "eps_name = f\" ({eps_list[0]} to {eps_list[-1]})\" \n",
    "dataset_name = \"ProximalPhalanxTW\"\n",
    "result_file = os.path.join(\"kNN_data\", \"saved_results\",\"Results on \" + dataset_name + eps_name + '_new_' +'.csv')\n",
    "TiOT_file = os.path.join(\"kNN_data\", \"saved_results\",\"Results on \" + dataset_name + eps_name + '_freq5_TiOTonly' + '.csv')\n",
    "final_file = os.path.join(\"kNN_data\", \"saved_results\",\"Results on \" + dataset_name + eps_name + '_freq5_' + '.csv')\n",
    "# Read both CSV files\n",
    "allresult = pd.read_csv(result_file)\n",
    "TiOTresult = pd.read_csv(TiOT_file)\n",
    "\n",
    "# Replace TiOT column in file1 with TiOT column from file2\n",
    "allresult[\"eTiOT\"] = TiOTresult[\"eTiOT\"]\n",
    "\n",
    "# Save the modified file1\n",
    "allresult.to_csv(final_file, index=False)"
   ]
  },
  {
   "cell_type": "markdown",
   "id": "0ce97ae3",
   "metadata": {},
   "source": [
    "## End of concatenation"
   ]
  },
  {
   "cell_type": "markdown",
   "id": "0e2ec13f",
   "metadata": {},
   "source": [
    "## Runtime testing"
   ]
  },
  {
   "cell_type": "code",
   "execution_count": 3,
   "id": "74bef9eb",
   "metadata": {},
   "outputs": [],
   "source": [
    "import numpy as np\n",
    "import numpy as np\n",
    "import ot\n",
    "import pandas as pd\n",
    "from collections import defaultdict\n",
    "import seaborn as sns\n",
    "import matplotlib.pyplot as plt\n",
    "import TiOT_lib\n",
    "import os\n",
    "\n"
   ]
  },
  {
   "cell_type": "code",
   "execution_count": 78,
   "id": "71aa4adc",
   "metadata": {},
   "outputs": [],
   "source": [
    "def gaussian_mixture_timeseries(length, n_components=3, weights=None, means=None, stds=None, random_state=None):\n",
    "    \"\"\"\n",
    "    Generate a Gaussian mixture time series.\n",
    "    \n",
    "    Parameters:\n",
    "        length (int): Length of the time series.\n",
    "        n_components (int): Number of Gaussian components.\n",
    "        weights (list or None): Mixing weights (must sum to 1). If None, uniform weights are used.\n",
    "        means (list or None): Means of Gaussians. If None, random values are used.\n",
    "        stds (list or None): Standard deviations of Gaussians. If None, random values are used.\n",
    "        random_state (int or None): Random seed for reproducibility.\n",
    "\n",
    "    Returns:\n",
    "        ts (ndarray): Generated time series of shape (length,).\n",
    "        component_ids (ndarray): The component index chosen at each time step.\n",
    "    \"\"\"\n",
    "    rng = np.random.default_rng(random_state)\n",
    "\n",
    "    # Default weights\n",
    "    if weights is None:\n",
    "        weights = np.ones(n_components) / n_components\n",
    "    weights = np.array(weights) / np.sum(weights)  # normalize\n",
    "    \n",
    "    # Default means and stds\n",
    "    if means is None:\n",
    "        means = rng.uniform(-5, 5, size=n_components)\n",
    "    if stds is None:\n",
    "        stds = rng.uniform(0.5, 2.0, size=n_components)\n",
    "\n",
    "    # Sample component for each time step\n",
    "    component_ids = rng.choice(n_components, size=length, p=weights)\n",
    "    \n",
    "    # Draw samples from corresponding Gaussians\n",
    "    ts = rng.normal(means[component_ids], stds[component_ids])\n",
    "    \n",
    "    return ts, component_ids\n",
    "\n",
    "\n",
    "# Example usage\n",
    "ts, comps = gaussian_mixture_timeseries(1000, n_components=2, random_state=42)\n",
    "ts2, comps = gaussian_mixture_timeseries(1000, n_components=2, random_state=41)\n",
    "\n",
    "\n",
    "\n",
    "\n"
   ]
  },
  {
   "cell_type": "code",
   "execution_count": 79,
   "id": "e7f9fdf5",
   "metadata": {},
   "outputs": [
    {
     "name": "stdout",
     "output_type": "stream",
     "text": [
      "Newton Algorithm converges after 4 iterations with w = 0.5592462322821663, df = -4.758041135838765e-11, df2 = 0.46436227621245096 and possible stepsize 1/df2 = 2.1534910375503644\n",
      "Newton Algorithm converges after 4 iterations with w = 0.6553747481686277, df = 8.114319917075724e-10, df2 = 0.7131358392090573 and possible stepsize 1/df2 = 1.4022573891519814\n",
      "Newton Algorithm converges after 4 iterations with w = 0.6939102426554288, df = -6.976653640650837e-11, df2 = 0.9449571638556749 and possible stepsize 1/df2 = 1.0582490278392471\n",
      "Newton Algorithm converges after 4 iterations with w = 0.7107112382891668, df = -2.6493409788046207e-13, df2 = 1.0856189974094734 and possible stepsize 1/df2 = 0.9211334753594224\n",
      "Newton Algorithm converges after 3 iterations with w = 0.7183362411873101, df = -2.287626797462471e-08, df2 = 1.1607714912455418 and possible stepsize 1/df2 = 0.8614960029100738\n",
      "Newton Algorithm converges after 3 iterations with w = 0.7218601866920067, df = -1.0486843959943253e-09, df2 = 1.198224365331654 and possible stepsize 1/df2 = 0.8345682402504077\n",
      "TiOT-BCD Algorithm converges after 101 iterations \n"
     ]
    },
    {
     "data": {
      "text/plain": [
       "(0.1650737563286158, 0.5777854999996634)"
      ]
     },
     "execution_count": 79,
     "metadata": {},
     "output_type": "execute_result"
    }
   ],
   "source": [
    "d0, pi, w, t = TiOT_lib.eTiOT(ts, ts2, eps = 0.1, freq =20, solver='newton', verbose=2, timing=True)\n",
    "d0, t"
   ]
  },
  {
   "cell_type": "code",
   "execution_count": 80,
   "id": "ef76aaf6",
   "metadata": {},
   "outputs": [
    {
     "name": "stdout",
     "output_type": "stream",
     "text": [
      "TiOT-BCD Algorithm converges after 51 iterations \n"
     ]
    },
    {
     "data": {
      "text/plain": [
       "(0.1646640718816209, 0.3751735000005283)"
      ]
     },
     "execution_count": 80,
     "metadata": {},
     "output_type": "execute_result"
    }
   ],
   "source": [
    "d1, pi, w, t = TiOT_lib.eTiOT(ts, ts2, eps = 0.1, freq = 10,  verbose=2, timing=True, eta=1.5, init_stepsize=False, subprob_tol=0.01)\n",
    "d1, t"
   ]
  },
  {
   "cell_type": "code",
   "execution_count": 2,
   "id": "7d6e6415",
   "metadata": {},
   "outputs": [
    {
     "data": {
      "image/png": "[encoded data removed]",
      "text/plain": [
       "<Figure size 800x400 with 1 Axes>"
      ]
     },
     "metadata": {},
     "output_type": "display_data"
    }
   ],
   "source": [
    "import numpy as np\n",
    "from scipy.stats import norm\n",
    "import matplotlib.pyplot as plt\n",
    "size = 500\n",
    "np.random.seed(42)\n",
    "x = np.linspace(-1, 1, size)\n",
    "\n",
    "ts1 = norm.pdf(x, -1, 0.5)  # Gaussian centered at -1, σ=0.5\n",
    "ts2 = norm.pdf(x,  1, 0.5)  # Gaussian centered at +1, σ=0.5\n",
    "plt.figure(figsize=(8, 4))\n",
    "plt.plot(x, ts1, label=\"ts1: N(-1, 0.5²)\", color=\"blue\")\n",
    "plt.plot(x, ts2, label=\"ts2: N(1, 0.5²)\", color=\"red\")\n",
    "plt.title(\"Two Gaussian Time Series\")\n",
    "plt.xlabel(\"x\")\n",
    "plt.ylabel(\"Density\")\n",
    "plt.legend()\n",
    "plt.grid(True, linestyle=\"--\", alpha=0.6)\n",
    "plt.show()"
   ]
  },
  {
   "cell_type": "code",
   "execution_count": 1,
   "id": "fea67d26",
   "metadata": {},
   "outputs": [
    {
     "name": "stdout",
     "output_type": "stream",
     "text": [
      "[1. 1. 1. 1. 1. 1. 1. 1. 1. 1.]\n"
     ]
    }
   ],
   "source": [
    "import numpy as np\n",
    "def f(arr):\n",
    "    arr = np.zeros(10)\n",
    "\n",
    "a = np.ones(10)\n",
    "f(a)\n",
    "print(a)"
   ]
  },
  {
   "cell_type": "code",
   "execution_count": 81,
   "id": "6f748adf",
   "metadata": {},
   "outputs": [
    {
     "data": {
      "text/plain": [
       "(0.059083053085085074, 0.11140479999994568)"
      ]
     },
     "execution_count": 81,
     "metadata": {},
     "output_type": "execute_result"
    }
   ],
   "source": [
    "d1, pi, t = TiOT_lib.TAOT(ts, ts2, timing=True)\n",
    "d1, t"
   ]
  },
  {
   "cell_type": "code",
   "execution_count": 82,
   "id": "917cd43f",
   "metadata": {},
   "outputs": [
    {
     "name": "stdout",
     "output_type": "stream",
     "text": [
      "TAOT-BCD Algorithm converges after 21 iterations\n"
     ]
    },
    {
     "data": {
      "text/plain": [
       "(0.14667939406593908, 0.02140659999986383)"
      ]
     },
     "execution_count": 82,
     "metadata": {},
     "output_type": "execute_result"
    }
   ],
   "source": [
    "d1, pi, t = TiOT_lib.eTAOT(ts, ts2, eps = 0.1, freq = 10,  verbose=2, timing=True)\n",
    "d1, t"
   ]
  },
  {
   "cell_type": "code",
   "execution_count": 1,
   "id": "9641cce8",
   "metadata": {},
   "outputs": [],
   "source": [
    "import numpy as np\n",
    "import ot\n",
    "import pandas as pd\n",
    "from collections import defaultdict\n",
    "import seaborn as sns\n",
    "import matplotlib.pyplot as plt\n",
    "import TiOT_lib\n",
    "import os\n",
    "\n",
    "def process_data(dataset_name, start1, start2, numpoint ):\n",
    "    filepath = os.path.join(\"time_series_kNN\", dataset_name, dataset_name + \"_TRAIN.txt\" )\n",
    "\n",
    "    with open(filepath, \"r\") as file:\n",
    "        data = [line.strip().split() for line in file]\n",
    "\n",
    "    # Convert to numerical values if needed\n",
    "    data = [[float(value) for value in row] for row in data]\n",
    "\n",
    "    X = [row[1:] for row in data]\n",
    "    X1 = X[start1: start1 + numpoint]\n",
    "    X2 = X[start2: start2 + numpoint]\n",
    "    return X1, X2\n",
    "dataset_name = 'DistalPhalanxOutlineCorrect' \n",
    "X1, X2 = process_data(dataset_name, start1=0, start2=10, numpoint=10)\n"
   ]
  },
  {
   "cell_type": "code",
   "execution_count": 2,
   "id": "bbaf0b6a",
   "metadata": {},
   "outputs": [],
   "source": [
    "X, Y = X1[0], X1[6]"
   ]
  },
  {
   "cell_type": "code",
   "execution_count": 3,
   "id": "160fc546",
   "metadata": {},
   "outputs": [
    {
     "name": "stdout",
     "output_type": "stream",
     "text": [
      "Newton Algorithm converges after 5 iterations with w = 0.6719733848655998, df = 9.008173547375709e-12, df2 = 0.049851568976736205 and possible stepsize 1/df2 = 20.059549188244432\n",
      "Newton Algorithm converges after 4 iterations with w = 0.6873852061578691, df = 1.9319687698596266e-09, df2 = 0.4969467188430948 and possible stepsize 1/df2 = 2.0122881630610756\n",
      "Newton Algorithm converges after 4 iterations with w = 0.6924423883834997, df = 1.912786986094095e-12, df2 = 0.607873572398639 and possible stepsize 1/df2 = 1.6450789200360356\n",
      "Newton Algorithm converges after 3 iterations with w = 0.6911633751548044, df = 3.753581183287696e-09, df2 = 0.7421197328643944 and possible stepsize 1/df2 = 1.3474914568573093\n",
      "Newton Algorithm converges after 4 iterations with w = 0.6877544285151709, df = 1.2925520029294368e-12, df2 = 0.8369982792044617 and possible stepsize 1/df2 = 1.1947455865147847\n",
      "Newton Algorithm converges after 4 iterations with w = 0.6842493144112045, df = 2.473959622231736e-12, df2 = 0.8993629977983331 and possible stepsize 1/df2 = 1.1118980905908173\n",
      "Newton Algorithm converges after 4 iterations with w = 0.6813778986859161, df = 6.237078995635637e-13, df2 = 0.945031772874362 and possible stepsize 1/df2 = 1.0581654804668095\n",
      "Newton Algorithm converges after 3 iterations with w = 0.6793589042794158, df = 5.175688695853442e-08, df2 = 0.9789454560069113 and possible stepsize 1/df2 = 1.021507371900953\n",
      "Newton Algorithm converges after 3 iterations with w = 0.6781119691761543, df = 7.621239780323391e-09, df2 = 1.0048605431426045 and possible stepsize 1/df2 = 0.995162967462725\n",
      "Newton Algorithm converges after 3 iterations with w = 0.6774783558282039, df = 5.070697670344487e-10, df2 = 1.0249075309126283 and possible stepsize 1/df2 = 0.9756977774468596\n",
      "Newton Algorithm converges after 3 iterations with w = 0.6773062495479463, df = 2.7405974625110963e-12, df2 = 1.040523307994518 and possible stepsize 1/df2 = 0.9610548772111394\n",
      "Newton Algorithm converges after 3 iterations with w = 0.6774677077214458, df = 2.1049719042473547e-12, df2 = 1.0528760062934528 and possible stepsize 1/df2 = 0.9497794555319029\n",
      "Newton Algorithm converges after 3 iterations with w = 0.6778558791217988, df = 6.975373555671849e-11, df2 = 1.0628341538372241 and possible stepsize 1/df2 = 0.9408805657868919\n",
      "Newton Algorithm converges after 3 iterations with w = 0.6783823433615486, df = 2.342653282732393e-10, df2 = 1.0710042844302319 and possible stepsize 1/df2 = 0.9337030808723554\n",
      "Newton Algorithm converges after 3 iterations with w = 0.6789759189294405, df = 3.7599677885080673e-10, df2 = 1.0778241668438837 and possible stepsize 1/df2 = 0.927795117944172\n",
      "Newton Algorithm converges after 3 iterations with w = 0.6795819422832912, df = 4.0600178590182584e-10, df2 = 1.0836254321138006 and possible stepsize 1/df2 = 0.9228281012649596\n",
      "Newton Algorithm converges after 3 iterations with w = 0.680161545280301, df = 3.377599728767236e-10, df2 = 1.08866172797668 and possible stepsize 1/df2 = 0.9185589741071718\n",
      "Newton Algorithm converges after 3 iterations with w = 0.6806900725442924, df = 2.3233055746179482e-10, df2 = 1.0931213066552359 and possible stepsize 1/df2 = 0.9148115528548509\n",
      "Newton Algorithm converges after 3 iterations with w = 0.6811543133111183, df = 1.3766162407051474e-10, df2 = 1.0971372687668972 and possible stepsize 1/df2 = 0.9114629759354794\n",
      "Newton Algorithm converges after 3 iterations with w = 0.681549194533441, df = 7.177342964750921e-11, df2 = 1.100800082646594 and possible stepsize 1/df2 = 0.9084301643544159\n",
      "Newton Algorithm converges after 3 iterations with w = 0.6818748221107156, df = 3.307351636484823e-11, df2 = 1.1041708318078807 and possible stepsize 1/df2 = 0.9056569610362558\n",
      "Newton Algorithm converges after 3 iterations with w = 0.6821343120768052, df = 1.3298216802910823e-11, df2 = 1.1072921366191917 and possible stepsize 1/df2 = 0.903104038156743\n",
      "Newton Algorithm converges after 3 iterations with w = 0.6823323865695733, df = 4.503256383243948e-12, df2 = 1.1101954636743832 and possible stepsize 1/df2 = 0.9007422861289017\n",
      "Newton Algorithm converges after 3 iterations with w = 0.6824745204608471, df = 1.191386182416987e-12, df2 = 1.112905364371101 and possible stepsize 1/df2 = 0.8985489979780055\n",
      "Newton Algorithm converges after 3 iterations with w = 0.6825664328509649, df = 2.0796927548139e-13, df2 = 1.1154417743412148 and possible stepsize 1/df2 = 0.8965057818375188\n",
      "Newton Algorithm converges after 2 iterations with w = 0.6826137840848803, df = 3.446842134977035e-08, df2 = 1.1178222377667486 and possible stepsize 1/df2 = 0.8945966238763143\n",
      "Newton Algorithm converges after 2 iterations with w = 0.6826219962496171, df = 1.0378269336584409e-09, df2 = 1.1200579745274406 and possible stepsize 1/df2 = 0.8928109283110155\n",
      "Newton Algorithm converges after 2 iterations with w = 0.6825961505287561, df = 1.0290166732921345e-08, df2 = 1.1221640452758288 and possible stepsize 1/df2 = 0.8911353061166731\n",
      "Newton Algorithm converges after 2 iterations with w = 0.6825409340794515, df = 4.7011229225104624e-08, df2 = 1.1241504301837302 and possible stepsize 1/df2 = 0.8895606612333554\n",
      "TiOT-BCD Algorithm converges after 562 iterations \n"
     ]
    },
    {
     "data": {
      "text/plain": [
       "(0.034144563942107575, 0.010279799999999284)"
      ]
     },
     "execution_count": 3,
     "metadata": {},
     "output_type": "execute_result"
    }
   ],
   "source": [
    "d0, pi, w, t = TiOT_lib.eTiOT(X, Y, eps = 0.01, freq = 20, solver='newton', verbose=2, timing=True)\n",
    "d0, t"
   ]
  },
  {
   "cell_type": "code",
   "execution_count": 4,
   "id": "2f26f8fa",
   "metadata": {},
   "outputs": [
    {
     "data": {
      "text/plain": [
       "(0.034146006072333125, 0.08259199999999822)"
      ]
     },
     "execution_count": 4,
     "metadata": {},
     "output_type": "execute_result"
    }
   ],
   "source": [
    "d1, pi, w, t = TiOT_lib.eTiOT(X, Y, eps = 0.01, eta=0.1, freq = 20, verbose=False, timing=True, submax_iter=100)\n",
    "d1, t"
   ]
  },
  {
   "cell_type": "code",
   "execution_count": 4,
   "id": "fefa7d6b",
   "metadata": {},
   "outputs": [
    {
     "name": "stdout",
     "output_type": "stream",
     "text": [
      "Total subiteration needed for PGD: 19 with df = -0.0480113146621186\n",
      "Total subiteration needed for PGD: 19 with df = -0.04885730901578723\n",
      "Total subiteration needed for PGD: 19 with df = -0.04720987836665548\n",
      "Total subiteration needed for PGD: 19 with df = -0.04519027360131247\n",
      "Total subiteration needed for PGD: 19 with df = -0.043055287024125755\n",
      "Total subiteration needed for PGD: 19 with df = -0.04093485593669537\n",
      "TiOT-BCD Algorithm converges after 101 iterations\n",
      "||g-g_old|| = 0.0062967749262412545\n"
     ]
    },
    {
     "data": {
      "text/plain": [
       "(0.06279226372256227, 0.05121640000000127)"
      ]
     },
     "execution_count": 4,
     "metadata": {},
     "output_type": "execute_result"
    }
   ],
   "source": [
    "d2, pi, w, t = TiOT_lib.eTiOT(X, Y, eps = 0.1, freq = 20, verbose=True, timing=True, submax_iter=20)\n",
    "d2, t"
   ]
  },
  {
   "cell_type": "code",
   "execution_count": 5,
   "id": "70d0b9d0",
   "metadata": {},
   "outputs": [
    {
     "name": "stdout",
     "output_type": "stream",
     "text": [
      "Total subiteration needed for PGD: 49 with df = -0.028703110824373747\n",
      "Total subiteration needed for PGD: 49 with df = -0.028788357247891097\n",
      "Total subiteration needed for PGD: 49 with df = -0.028034624328462727\n",
      "Total subiteration needed for PGD: 49 with df = -0.02712501912648551\n",
      "Total subiteration needed for PGD: 49 with df = -0.026154621599509317\n",
      "Total subiteration needed for PGD: 49 with df = -0.02516016023047627\n",
      "Total subiteration needed for PGD: 49 with df = -0.0241575637782391\n",
      "Total subiteration needed for PGD: 49 with df = -0.023153598924250215\n",
      "Total subiteration needed for PGD: 49 with df = -0.02215067164831322\n",
      "Total subiteration needed for PGD: 49 with df = -0.02114907998204344\n",
      "Total subiteration needed for PGD: 49 with df = -0.020148124279724233\n",
      "Total subiteration needed for PGD: 49 with df = -0.01914667124920419\n",
      "Total subiteration needed for PGD: 49 with df = -0.01814345736337799\n",
      "Total subiteration needed for PGD: 49 with df = -0.017137277407998065\n",
      "Total subiteration needed for PGD: 49 with df = -0.016127138280350287\n",
      "Total subiteration needed for PGD: 49 with df = -0.015112426780283274\n",
      "Total subiteration needed for PGD: 49 with df = -0.014093123004056482\n",
      "Total subiteration needed for PGD: 49 with df = -0.013070076574508944\n",
      "Total subiteration needed for PGD: 49 with df = -0.012045343823261518\n",
      "Total subiteration needed for PGD: 49 with df = -0.011022555487897982\n",
      "Total subiteration needed for PGD: 49 with df = -0.010007246087390783\n",
      "Total subiteration needed for PGD: 49 with df = -0.009007035446124167\n",
      "Total subiteration needed for PGD: 49 with df = -0.00803152886500724\n",
      "Total subiteration needed for PGD: 49 with df = -0.007091823004693314\n",
      "Total subiteration needed for PGD: 49 with df = -0.006199590778779691\n",
      "Total subiteration needed for PGD: 49 with df = -0.005365859539933815\n",
      "Total subiteration needed for PGD: 49 with df = -0.0045997357508902196\n",
      "Total subiteration needed for PGD: 49 with df = -0.003907387057536761\n",
      "Total subiteration needed for PGD: 49 with df = -0.0032915240103540315\n",
      "Total subiteration needed for PGD: 49 with df = -0.0027514581589560593\n",
      "Total subiteration needed for PGD: 49 with df = -0.0022836369418026865\n",
      "Total subiteration needed for PGD: 49 with df = -0.0018824490047194184\n",
      "Total subiteration needed for PGD: 49 with df = -0.0015410825869141072\n",
      "Total subiteration needed for PGD: 49 with df = -0.0012522774995631977\n",
      "Total subiteration needed for PGD: 49 with df = -0.001008891463085921\n",
      "Total subiteration needed for PGD: 49 with df = -0.0008042687818699497\n",
      "Total subiteration needed for PGD: 49 with df = -0.0006324396074363399\n",
      "Total subiteration needed for PGD: 49 with df = -0.00048819353570876776\n",
      "Total subiteration needed for PGD: 49 with df = -0.0003670706866544287\n",
      "Total subiteration needed for PGD: 49 with df = -0.0002653052511938303\n",
      "Total subiteration needed for PGD: 49 with df = -0.0001797465121206723\n",
      "TiOT-BCD Algorithm converges after 161 iterations\n",
      "||g-g_old|| = 0.004418963751753658\n"
     ]
    },
    {
     "data": {
      "text/plain": [
       "(0.03672474723124107, 0.5282674000000043)"
      ]
     },
     "execution_count": 5,
     "metadata": {},
     "output_type": "execute_result"
    }
   ],
   "source": [
    "d3, pi, w, t = TiOT_lib.eTiOT(X, Y, eps = 0.05, freq = 4, solver='PGD', verbose=True, timing=True)\n",
    "d3,t"
   ]
  },
  {
   "cell_type": "code",
   "execution_count": 30,
   "id": "29e156c0",
   "metadata": {},
   "outputs": [
    {
     "data": {
      "text/plain": [
       "(8.512607840849284e-10, 7.136090306093801e-06, 2.9745295493516233e-06)"
      ]
     },
     "execution_count": 30,
     "metadata": {},
     "output_type": "execute_result"
    }
   ],
   "source": [
    "np.abs(d1 -d0), np.abs(d2-d0), np.abs(d3-d0)"
   ]
  },
  {
   "cell_type": "code",
   "execution_count": 34,
   "id": "c2eac6b3",
   "metadata": {},
   "outputs": [
    {
     "data": {
      "text/plain": [
       "1000"
      ]
     },
     "execution_count": 34,
     "metadata": {},
     "output_type": "execute_result"
    }
   ],
   "source": [
    "def f(x):\n",
    "    return x*10, x*100\n",
    "f(10)[-1]"
   ]
  },
  {
   "cell_type": "code",
   "execution_count": 35,
   "id": "33dcf651",
   "metadata": {},
   "outputs": [
    {
     "data": {
      "text/plain": [
       "2000"
      ]
     },
     "execution_count": 35,
     "metadata": {},
     "output_type": "execute_result"
    }
   ],
   "source": [
    "f(20)[-1]"
   ]
  }
 ],
 "metadata": {
  "kernelspec": {
   "display_name": "Python 3",
   "language": "python",
   "name": "python3"
  },
  "language_info": {
   "codemirror_mode": {
    "name": "ipython",
    "version": 3
   },
   "file_extension": ".py",
   "mimetype": "text/x-python",
   "name": "python",
   "nbconvert_exporter": "python",
   "pygments_lexer": "ipython3",
   "version": "3.8.0"
  }
 },
 "nbformat": 4,
 "nbformat_minor": 5
}
